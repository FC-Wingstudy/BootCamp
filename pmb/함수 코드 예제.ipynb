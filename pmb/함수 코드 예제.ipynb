{
 "cells": [
  {
   "cell_type": "code",
   "execution_count": 3,
   "metadata": {},
   "outputs": [
    {
     "name": "stdout",
     "output_type": "stream",
     "text": [
      "g_var = 10\n"
     ]
    }
   ],
   "source": [
    "g_var = 10\n",
    "\n",
    "def func():\n",
    "    print(\"g_var = {}\".format(g_var))\n",
    "\n",
    "func()"
   ]
  },
  {
   "cell_type": "code",
   "execution_count": 4,
   "metadata": {},
   "outputs": [
    {
     "name": "stdout",
     "output_type": "stream",
     "text": [
      "g_var: 20 in function\n",
      "g_var: 10 in function\n"
     ]
    }
   ],
   "source": [
    "g_var = 10\n",
    "\n",
    "def func():\n",
    "    g_var = 20\n",
    "    print('g_var: {} in function'.format(g_var))\n",
    "\n",
    "func()\n",
    "print('g_var: {} in function'.format(g_var))"
   ]
  },
  {
   "cell_type": "code",
   "execution_count": 7,
   "metadata": {},
   "outputs": [
    {
     "name": "stdout",
     "output_type": "stream",
     "text": [
      "g_var: 20 in function\n",
      "g_var: 20 in function\n"
     ]
    }
   ],
   "source": [
    "g_var = 10\n",
    "\n",
    "def func():\n",
    "    global g_var\n",
    "    g_var = 20\n",
    "    print('g_var: {} in function'.format(g_var))\n",
    "\n",
    "func()\n",
    "print('g_var: {} in function'.format(g_var))"
   ]
  },
  {
   "cell_type": "code",
   "execution_count": 8,
   "metadata": {},
   "outputs": [],
   "source": [
    "def outer():\n",
    "    a=10\n",
    "    def innter():\n",
    "        b=20"
   ]
  },
  {
   "cell_type": "code",
   "execution_count": 9,
   "metadata": {},
   "outputs": [
    {
     "name": "stdout",
     "output_type": "stream",
     "text": [
      "1 2 3\n",
      "1 2 3 4 5\n"
     ]
    }
   ],
   "source": [
    "a = 1\n",
    "\n",
    "def outer():\n",
    "    b = 2\n",
    "    c = 3\n",
    "    print(a,b,c)\n",
    "    def inner():\n",
    "        d = 4\n",
    "        e = 5\n",
    "        print(a,b,c,d,e)\n",
    "    inner()\n",
    "outer()"
   ]
  },
  {
   "cell_type": "code",
   "execution_count": 10,
   "metadata": {},
   "outputs": [
    {
     "name": "stdout",
     "output_type": "stream",
     "text": [
      "2 3\n",
      "locals in outer : a = 100, b = 3\n"
     ]
    }
   ],
   "source": [
    "def outer():\n",
    "    a = 2\n",
    "    b = 3\n",
    "    print(a,b)\n",
    "    def inner():\n",
    "        nonlocal a\n",
    "        a = 100\n",
    "    inner()\n",
    "    \n",
    "    print('locals in outer : a = {}, b = {}'.format(a,b))\n",
    "outer()"
   ]
  },
  {
   "cell_type": "code",
   "execution_count": 13,
   "metadata": {},
   "outputs": [
    {
     "name": "stdout",
     "output_type": "stream",
     "text": [
      "x: 20 in change_value\n",
      "x: 10 in main\n"
     ]
    }
   ],
   "source": [
    "def change_value(x, value): #3\n",
    "    x = value               #4\n",
    "    print(f'x: {x} in change_value')\n",
    "\n",
    "x = 10\n",
    "change_value(x, 20)\n",
    "print(f'x: {x} in main')"
   ]
  },
  {
   "cell_type": "code",
   "execution_count": 14,
   "metadata": {},
   "outputs": [
    {
     "data": {
      "text/plain": [
       "['I am your father!', 2, 3, 4]"
      ]
     },
     "execution_count": 14,
     "metadata": {},
     "output_type": "execute_result"
    }
   ],
   "source": [
    "def func(li):\n",
    "    li[0] = 'I am your father!'\n",
    "\n",
    "li = [1,2,3,4]\n",
    "func(li)\n",
    "li"
   ]
  },
  {
   "cell_type": "code",
   "execution_count": 16,
   "metadata": {},
   "outputs": [
    {
     "data": {
      "text/plain": [
       "[1, 2, 3, 4]"
      ]
     },
     "execution_count": 16,
     "metadata": {},
     "output_type": "execute_result"
    }
   ],
   "source": [
    "def func(li):\n",
    "    li = ['I am your father!',2,3,4]\n",
    "\n",
    "li = [1,2,3,4]\n",
    "func(li)\n",
    "li"
   ]
  },
  {
   "cell_type": "code",
   "execution_count": 17,
   "metadata": {},
   "outputs": [
    {
     "name": "stdout",
     "output_type": "stream",
     "text": [
      "i am your father, 2, 3, 4\n"
     ]
    }
   ],
   "source": [
    "def change_value(tu):\n",
    "    tu = ('i am your father, 2, 3, 4')\n",
    "    return tu\n",
    "\n",
    "tu = (1,2,3,4)\n",
    "tu = change_value(tu)\n",
    "print(tu)"
   ]
  },
  {
   "cell_type": "code",
   "execution_count": 18,
   "metadata": {},
   "outputs": [
    {
     "data": {
      "text/plain": [
       "[1, 2, 3, 4, 5, 6, 7, 8, 9, 10]"
      ]
     },
     "execution_count": 18,
     "metadata": {},
     "output_type": "execute_result"
    }
   ],
   "source": [
    "li = [i for i in range(1,11)]\n",
    "li"
   ]
  },
  {
   "cell_type": "code",
   "execution_count": 19,
   "metadata": {},
   "outputs": [
    {
     "data": {
      "text/plain": [
       "[1, 3, 5, 7, 9, 2, 4, 6, 8, 10]"
      ]
     },
     "execution_count": 19,
     "metadata": {},
     "output_type": "execute_result"
    }
   ],
   "source": [
    "li.sort(key=lambda x: x%2==0)\n",
    "li"
   ]
  },
  {
   "cell_type": "code",
   "execution_count": 20,
   "metadata": {},
   "outputs": [
    {
     "data": {
      "text/plain": [
       "4"
      ]
     },
     "execution_count": 20,
     "metadata": {},
     "output_type": "execute_result"
    }
   ],
   "source": [
    "f = lambda x: x **2\n",
    "f(2)"
   ]
  },
  {
   "cell_type": "code",
   "execution_count": null,
   "metadata": {},
   "outputs": [],
   "source": []
  }
 ],
 "metadata": {
  "kernelspec": {
   "display_name": "Python 3",
   "language": "python",
   "name": "python3"
  },
  "language_info": {
   "codemirror_mode": {
    "name": "ipython",
    "version": 3
   },
   "file_extension": ".py",
   "mimetype": "text/x-python",
   "name": "python",
   "nbconvert_exporter": "python",
   "pygments_lexer": "ipython3",
   "version": "3.6.5"
  }
 },
 "nbformat": 4,
 "nbformat_minor": 2
}
