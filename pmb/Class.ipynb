{
 "cells": [
  {
   "cell_type": "markdown",
   "metadata": {},
   "source": [
    "## 메서드 오버라이딩"
   ]
  },
  {
   "cell_type": "code",
   "execution_count": 5,
   "metadata": {},
   "outputs": [],
   "source": [
    "class Carowner:\n",
    "    def __init__(self, name):\n",
    "        self.name = name\n",
    "        \n",
    "    def concentrate(self):\n",
    "        print(f'{self.name} can not do anything eles')\n",
    "        \n",
    "\n",
    "class Car:\n",
    "    def __init__(self, owner_name):\n",
    "        self.owner = Carowner(owner_name)\n",
    "    \n",
    "    def drive(self): #1\n",
    "        self.owner.concentrate() #2\n",
    "        print(f'{self.owner.name} is driving now') #3"
   ]
  },
  {
   "cell_type": "code",
   "execution_count": 6,
   "metadata": {},
   "outputs": [],
   "source": [
    "class SelfDriveingCar(Car):\n",
    "    def drive(self): #4\n",
    "        print('Car is driving by itself') #5"
   ]
  },
  {
   "cell_type": "code",
   "execution_count": 7,
   "metadata": {},
   "outputs": [
    {
     "name": "stdout",
     "output_type": "stream",
     "text": [
      "Greg can not do anything eles\n",
      "Greg is driving now\n",
      "\n",
      "Car is driving by itself\n"
     ]
    }
   ],
   "source": [
    "car = Car('Greg')\n",
    "car.drive()\n",
    "print('')\n",
    "\n",
    "s_car = SelfDriveingCar('john')\n",
    "s_car.drive()"
   ]
  },
  {
   "cell_type": "markdown",
   "metadata": {},
   "source": [
    "## 추상 클래스"
   ]
  },
  {
   "cell_type": "code",
   "execution_count": 28,
   "metadata": {},
   "outputs": [],
   "source": [
    "from abc import * #1"
   ]
  },
  {
   "cell_type": "code",
   "execution_count": 29,
   "metadata": {},
   "outputs": [],
   "source": [
    "class Animal(metaclass = ABCMeta):#2\n",
    "    @abstractmethod \n",
    "    def eat(self): #3\n",
    "        pass"
   ]
  },
  {
   "cell_type": "code",
   "execution_count": 30,
   "metadata": {},
   "outputs": [],
   "source": [
    "class Lion(Animal):\n",
    "    def eat(self):\n",
    "        print(f'eat meat!')"
   ]
  },
  {
   "cell_type": "code",
   "execution_count": 31,
   "metadata": {},
   "outputs": [
    {
     "name": "stdout",
     "output_type": "stream",
     "text": [
      "eat meat!\n"
     ]
    }
   ],
   "source": [
    "lion = Lion()\n",
    "lion.eat()"
   ]
  },
  {
   "cell_type": "code",
   "execution_count": null,
   "metadata": {},
   "outputs": [],
   "source": []
  }
 ],
 "metadata": {
  "kernelspec": {
   "display_name": "Python 3",
   "language": "python",
   "name": "python3"
  },
  "language_info": {
   "codemirror_mode": {
    "name": "ipython",
    "version": 3
   },
   "file_extension": ".py",
   "mimetype": "text/x-python",
   "name": "python",
   "nbconvert_exporter": "python",
   "pygments_lexer": "ipython3",
   "version": "3.6.5"
  }
 },
 "nbformat": 4,
 "nbformat_minor": 2
}
