{
 "cells": [
  {
   "cell_type": "code",
   "execution_count": 1,
   "metadata": {},
   "outputs": [],
   "source": [
    "class Computer:\n",
    "    def __init__(self, cpu, ram):\n",
    "        self.CPU = cpu\n",
    "        self.RAM = ram\n",
    "    \n",
    "    def browse(self):\n",
    "        print('browse')\n",
    "        \n",
    "    def work(self):\n",
    "        print('work')"
   ]
  },
  {
   "cell_type": "code",
   "execution_count": 2,
   "metadata": {},
   "outputs": [],
   "source": [
    "class Laptop(Computer): #1\n",
    "    def __init__(self, cpu, ram, battery):\n",
    "        super().__init__(cpu, ram) #2\n",
    "        self.battery = battery #3\n",
    "        \n",
    "    def move(self, to):\n",
    "        print(f'move {to}')\n",
    "        "
   ]
  },
  {
   "cell_type": "code",
   "execution_count": 4,
   "metadata": {},
   "outputs": [
    {
     "name": "stdout",
     "output_type": "stream",
     "text": [
      "browse\n",
      "work\n",
      "move office\n"
     ]
    }
   ],
   "source": [
    "lap = Laptop('intel', 16, 'powerful')\n",
    "lap.browse() #5\n",
    "lap.work()\n",
    "lap.move('office') #6"
   ]
  },
  {
   "cell_type": "code",
   "execution_count": 5,
   "metadata": {},
   "outputs": [],
   "source": [
    "class CPU:\n",
    "    pass\n",
    "\n",
    "class RAM:\n",
    "    pass\n",
    "\n",
    "class Computer:\n",
    "    def __init__(self):\n",
    "        self.cpu = CPU() #1\n",
    "        self.ram = RAM()"
   ]
  },
  {
   "cell_type": "code",
   "execution_count": 7,
   "metadata": {},
   "outputs": [],
   "source": [
    "class Gun:\n",
    "    def __init__(self, kind):\n",
    "        self.kind = kind\n",
    "    \n",
    "    def bang(self):\n",
    "        print('bang bang!')\n",
    "        \n",
    "\n",
    "class Police:\n",
    "    def __init__(self):\n",
    "        self.gun = None\n",
    "    \n",
    "    def acquire_gun(self, gun):\n",
    "        self.gun = gun\n",
    "        \n",
    "    def release_gun(self):\n",
    "        gun = self.gun\n",
    "        self.gun = None\n",
    "        return gun\n",
    "    \n",
    "    def shoot(self):\n",
    "        if self.gun:\n",
    "            self.gun.bang()\n",
    "        else:\n",
    "            print('Unable to shoot')"
   ]
  },
  {
   "cell_type": "code",
   "execution_count": 9,
   "metadata": {},
   "outputs": [
    {
     "name": "stdout",
     "output_type": "stream",
     "text": [
      "p1 shoots\n",
      "Unable to shoot\n",
      "\n",
      "p1 shoots again\n",
      "bang bang!\n",
      "\n",
      "p1 shoots again\n",
      "Unable to shoot\n"
     ]
    }
   ],
   "source": [
    "p1 = Police()\n",
    "print('p1 shoots')\n",
    "p1.shoot()\n",
    "print('')\n",
    "\n",
    "# p1은 아직 총을 소유하지 않음\n",
    "revolver = Gun('Revolver')\n",
    "# p1이 revolver를 획득\n",
    "p1.acquire_gun(revolver)\n",
    "# p1이 총을 소유\n",
    "# revolver는 None이 됨\n",
    "revolver = None\n",
    "\n",
    "print('p1 shoots again')\n",
    "p1.shoot()\n",
    "print('')\n",
    "\n",
    "# p1이 총을 반납\n",
    "# 더 이상 총을 소유하지 않음\n",
    "revolver = p1.release_gun()\n",
    "print('p1 shoots again')\n",
    "p1.shoot()"
   ]
  },
  {
   "cell_type": "code",
   "execution_count": null,
   "metadata": {},
   "outputs": [],
   "source": []
  }
 ],
 "metadata": {
  "kernelspec": {
   "display_name": "Python 3",
   "language": "python",
   "name": "python3"
  },
  "language_info": {
   "codemirror_mode": {
    "name": "ipython",
    "version": 3
   },
   "file_extension": ".py",
   "mimetype": "text/x-python",
   "name": "python",
   "nbconvert_exporter": "python",
   "pygments_lexer": "ipython3",
   "version": "3.6.5"
  }
 },
 "nbformat": 4,
 "nbformat_minor": 2
}
