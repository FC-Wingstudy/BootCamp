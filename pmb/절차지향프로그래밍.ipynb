{
 "cells": [
  {
   "cell_type": "code",
   "execution_count": 29,
   "metadata": {},
   "outputs": [],
   "source": [
    "from openpyxl import * # openpyxl import\n",
    "import math"
   ]
  },
  {
   "cell_type": "code",
   "execution_count": 30,
   "metadata": {},
   "outputs": [
    {
     "name": "stdout",
     "output_type": "stream",
     "text": [
      "['시트1']\n",
      "<Worksheet \"시트1\">\n"
     ]
    }
   ],
   "source": [
    "wb = load_workbook('exam.xlsx') # exam.xlsx를 open\n",
    "print(wb.sheetnames)\n",
    "ws = wb.active # 활성화 된 시트를 받아옴\n",
    "print(ws)\n"
   ]
  },
  {
   "cell_type": "code",
   "execution_count": 31,
   "metadata": {},
   "outputs": [
    {
     "data": {
      "text/plain": [
       "(<Cell '시트1'.A1>, <Cell '시트1'.B1>, <Cell '시트1'.C1>, <Cell '시트1'.D1>)"
      ]
     },
     "execution_count": 31,
     "metadata": {},
     "output_type": "execute_result"
    }
   ],
   "source": [
    "g = ws.rows # 데이터가 있는 모든 행을 발생자(generator)객체로 반환\n",
    "cells = next(g) # 첫번째 행을 가져 옴\n",
    "cells\n",
    "\n",
    "# generetor는 iterator의 일종으로 next()함수를 호출할 때마다 데이터를 차례대로 반환\n",
    "# 모든 데이터가 반환되면 Stopiteration 오류가 발생"
   ]
  },
  {
   "cell_type": "code",
   "execution_count": 32,
   "metadata": {},
   "outputs": [
    {
     "data": {
      "text/plain": [
       "['name', 'math', 'literature', 'science']"
      ]
     },
     "execution_count": 32,
     "metadata": {},
     "output_type": "execute_result"
    }
   ],
   "source": [
    "keys = []\n",
    "for cell in cells:\n",
    "    keys.append(cell.value) # 셀의 value에 접근, 실제 값을 가져옴\n",
    "keys"
   ]
  },
  {
   "cell_type": "code",
   "execution_count": 33,
   "metadata": {},
   "outputs": [
    {
     "data": {
      "text/plain": [
       "[{'name': 'greg', 'math': 95, 'literature': 65, 'science': 75},\n",
       " {'name': 'john', 'math': 25, 'literature': 30, 'science': 55},\n",
       " {'name': 'yang', 'math': 50, 'literature': 45, 'science': 40},\n",
       " {'name': 'timothy', 'math': 15, 'literature': 65, 'science': 90},\n",
       " {'name': 'melisa', 'math': 100, 'literature': 100, 'science': 100},\n",
       " {'name': 'thor', 'math': 10, 'literature': 15, 'science': 20},\n",
       " {'name': 'elen', 'math': 25, 'literature': 50, 'science': 100},\n",
       " {'name': 'mark', 'math': 80, 'literature': 75, 'science': 80},\n",
       " {'name': 'steve', 'math': 95, 'literature': 100, 'science': 95},\n",
       " {'name': 'anna', 'math': 20, 'literature': 20, 'science': 20}]"
      ]
     },
     "execution_count": 33,
     "metadata": {},
     "output_type": "execute_result"
    }
   ],
   "source": [
    "student_data = []\n",
    "for row in g:\n",
    "    dic = {k : c.value for k, c in zip(keys, row)} # 딕셔너리 컴프리헨션을 이용, 학생 한 명의 데이터를 모은 딕셔너리를 만듬\n",
    "    student_data.append(dic) # 전체 학생 데이터를 저장하는 리스트 student_data에 추가\n",
    "student_data"
   ]
  },
  {
   "cell_type": "markdown",
   "metadata": {},
   "source": [
    "# 평균, 분산, 표준편차를 함수로 만들기"
   ]
  },
  {
   "cell_type": "code",
   "execution_count": 34,
   "metadata": {},
   "outputs": [],
   "source": [
    "raw_data = {}\n",
    "wb = openpyxl.load_workbook('class_2_3.xlsx')\n",
    "ws = wb.active\n",
    "g = ws.rows"
   ]
  },
  {
   "cell_type": "code",
   "execution_count": 37,
   "metadata": {},
   "outputs": [
    {
     "name": "stdout",
     "output_type": "stream",
     "text": [
      "평균: 51.5, 분산: 1240.2, 표준편차: 35.2\n",
      "성적은 평균 이상이지만 학생들이 실력 차이가 크다. 주의 요망!\n"
     ]
    }
   ],
   "source": [
    "for name, score in g:\n",
    "    raw_data[name.value] = score.value\n",
    "\n",
    "scores = list(raw_data.values()) \n",
    "scores\n",
    "\n",
    "s = 0\n",
    "\n",
    "for score in scores:\n",
    "    s += score\n",
    "\n",
    "avrg = round(s/len(scores), 1)\n",
    "\n",
    "s = 0\n",
    "\n",
    "for score in scores:\n",
    "    s += (score - avrg) ** 2\n",
    "    \n",
    "variance = round(s/len(scores), 1)\n",
    "\n",
    "std_dev = round(math.sqrt(variance), 1)\n",
    "\n",
    "print(\n",
    "    '평균: {0}, 분산: {1}, 표준편차: {2}'.format(\n",
    "    avrg, variance, std_dev)\n",
    ")\n",
    "\n",
    "if avrg < 50 and std_dev > 20:\n",
    "    print('성적이 너무 저조하고 학생들의 실력 차이가 너무 크다')\n",
    "elif avrg > 50 and std_dev > 20:\n",
    "    print('성적은 평균 이상이지만 학생들이 실력 차이가 크다. 주의 요망!')\n",
    "elif avrg < 50 and std_dev < 20:\n",
    "    print('학생들의 실력 차이는 크지 않지만 성적이 너무 저조하다. 주의 요망!')\n",
    "elif avrg > 50 and std_dev < 20:\n",
    "    print('성적도 평균 이상이고 학생들의 실력 차이도 크지 않다.')\n",
    "    "
   ]
  },
  {
   "cell_type": "code",
   "execution_count": null,
   "metadata": {},
   "outputs": [],
   "source": []
  }
 ],
 "metadata": {
  "kernelspec": {
   "display_name": "Python 3",
   "language": "python",
   "name": "python3"
  },
  "language_info": {
   "codemirror_mode": {
    "name": "ipython",
    "version": 3
   },
   "file_extension": ".py",
   "mimetype": "text/x-python",
   "name": "python",
   "nbconvert_exporter": "python",
   "pygments_lexer": "ipython3",
   "version": "3.6.5"
  }
 },
 "nbformat": 4,
 "nbformat_minor": 2
}
