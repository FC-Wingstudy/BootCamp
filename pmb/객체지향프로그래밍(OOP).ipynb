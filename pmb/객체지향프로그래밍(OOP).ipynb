{
 "cells": [
  {
   "cell_type": "code",
   "execution_count": 27,
   "metadata": {},
   "outputs": [],
   "source": [
    "def person_init(name, money):\n",
    "    obj = {'name' : name,\n",
    "           'money': money}\n",
    "    obj['give_money'] = Person[1]\n",
    "    obj['get_money'] = Person[2]\n",
    "    obj['show'] = Person[3]\n",
    "    \n",
    "    return obj\n",
    "def give_money(self, other, money):\n",
    "    self['money'] -= money\n",
    "    other['get_money'](other, money)\n",
    "    \n",
    "def get_money(self, money):\n",
    "    self['money'] += money\n",
    "    \n",
    "def show(self):\n",
    "    print('{} : {}'.format(self['name'], self['money']))\n",
    "\n",
    "Person = person_init, give_money, get_money, show"
   ]
  },
  {
   "cell_type": "code",
   "execution_count": 28,
   "metadata": {},
   "outputs": [
    {
     "name": "stdout",
     "output_type": "stream",
     "text": [
      "greg : 5000\n",
      "john : 2000\n",
      "\n",
      "greg : 3000\n",
      "john : 4000\n"
     ]
    }
   ],
   "source": [
    "g = Person[0]('greg', 5000)\n",
    "j = Person[0]('john', 2000)\n",
    "g['show'](g)\n",
    "j['show'](j)\n",
    "print('')\n",
    "\n",
    "g['give_money'](g,j,2000)\n",
    "\n",
    "g['show'](g)\n",
    "j['show'](j)"
   ]
  },
  {
   "cell_type": "code",
   "execution_count": 29,
   "metadata": {},
   "outputs": [],
   "source": [
    "class Person:\n",
    "    def __init__(self, name, money):\n",
    "        self.name = name\n",
    "        self.money = money\n",
    "        \n",
    "    def give_money(self, other, money):\n",
    "        self.money -= money\n",
    "        other.get_money(money)\n",
    "        \n",
    "    def get_money(self, money):\n",
    "        self.money += money\n",
    "    \n",
    "    def show(self):\n",
    "        print(f'{self.name} : {self.money}원')"
   ]
  },
  {
   "cell_type": "code",
   "execution_count": 35,
   "metadata": {},
   "outputs": [
    {
     "name": "stdout",
     "output_type": "stream",
     "text": [
      "greg : 5000원\n",
      "john : 2000원\n",
      "\n",
      "greg : 4000원\n",
      "john : 3000원\n"
     ]
    }
   ],
   "source": [
    "g = Person('greg', 5000)\n",
    "j = Person('john', 2000)\n",
    "\n",
    "g.show()\n",
    "j.show()\n",
    "print('')\n",
    "g.give_money(j, 1000)\n",
    "g.show()\n",
    "j.show()"
   ]
  },
  {
   "cell_type": "code",
   "execution_count": 36,
   "metadata": {},
   "outputs": [],
   "source": [
    "class Account:\n",
    "    num_acnt = 0\n",
    "    \n",
    "    @classmethod\n",
    "    def get_num_acnt(cls):\n",
    "        return cls.num_acnt\n",
    "    \n",
    "    def __init__(self, name, money):\n",
    "        self.user = name\n",
    "        self.balance = money\n",
    "        Account.num_acnt += 1\n",
    "    \n",
    "    def deposit(self, money):\n",
    "        if self.balance < 0:\n",
    "            return \n",
    "        self.balance += money\n",
    "    \n",
    "    def withrow(self, money):\n",
    "        if money > 0 and money < self.balance:\n",
    "            self.balance -= money\n",
    "            return money\n",
    "        else:\n",
    "            return None\n",
    "    \n",
    "    def transfer(self, other, money):\n",
    "        mon = self.withrow(money)\n",
    "        if mon:\n",
    "            other.deposit(money)\n",
    "            return True\n",
    "        else:\n",
    "            return False\n",
    "        \n",
    "    \n",
    "    def __str__(self):\n",
    "        return 'user : {}, balance : {}'.format(self.user, self.balance)"
   ]
  },
  {
   "cell_type": "code",
   "execution_count": 45,
   "metadata": {},
   "outputs": [
    {
     "name": "stdout",
     "output_type": "stream",
     "text": [
      "object create\n",
      "user : greg, balance : 5000\n",
      "user : john, balance : 1000\n",
      "\n",
      "deposit\n",
      "user : greg, balance : 5500\n",
      "\n",
      "withdraw\n",
      "withdraw money : 1500\n",
      "My balance : 4000\n",
      "\n",
      "class method\n",
      "The number of accounts : 18\n",
      "\n",
      "message passing\n",
      "user : greg, balance : 4000\n",
      "user : john, balance : 1000\n",
      "transfer succeeded\n",
      "user : greg, balance : 2000\n",
      "user : john, balance : 3000\n"
     ]
    }
   ],
   "source": [
    "my_acnt = Account('greg', 5000)\n",
    "your_acnt = Account('john', 1000)\n",
    "\n",
    "print('object create')\n",
    "print(my_acnt)\n",
    "print(your_acnt)\n",
    "print()\n",
    "\n",
    "my_acnt.deposit(500)\n",
    "\n",
    "print('deposit')\n",
    "print(my_acnt)\n",
    "print()\n",
    "\n",
    "print('withdraw')\n",
    "money = my_acnt.withrow(1500)\n",
    "if money:\n",
    "    print('withdraw money : {}'.format(money))\n",
    "else:\n",
    "    print('Not enough to withdraw')\n",
    "print(f'My balance : {my_acnt.balance}')\n",
    "print()\n",
    "\n",
    "print('class method')\n",
    "n_acnt = Account.get_num_acnt()\n",
    "\n",
    "print('The number of accounts : {}'.format(n_acnt))\n",
    "print()\n",
    "\n",
    "print('message passing')\n",
    "print(my_acnt)\n",
    "print(your_acnt)\n",
    "\n",
    "res = my_acnt.transfer(your_acnt, 2000)\n",
    "if res:\n",
    "    print('transfer succeeded')\n",
    "else:\n",
    "    print('transfer failed')\n",
    "\n",
    "print(my_acnt)\n",
    "print(your_acnt)"
   ]
  },
  {
   "cell_type": "code",
   "execution_count": null,
   "metadata": {},
   "outputs": [],
   "source": []
  }
 ],
 "metadata": {
  "kernelspec": {
   "display_name": "Python 3",
   "language": "python",
   "name": "python3"
  },
  "language_info": {
   "codemirror_mode": {
    "name": "ipython",
    "version": 3
   },
   "file_extension": ".py",
   "mimetype": "text/x-python",
   "name": "python",
   "nbconvert_exporter": "python",
   "pygments_lexer": "ipython3",
   "version": "3.6.5"
  }
 },
 "nbformat": 4,
 "nbformat_minor": 2
}
