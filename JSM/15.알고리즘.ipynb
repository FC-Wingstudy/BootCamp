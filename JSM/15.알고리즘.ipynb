{
 "cells": [
  {
   "cell_type": "markdown",
   "metadata": {},
   "source": [
    "선형 탐색: 대상 데이터와 저장되어 있는 데이터를 순서대로 하나씩 비교하는 방식\n",
    "이진 탐색: 대상 데이터와 가운데 위치한 데이터를 비교해 대상 데이터가 작으면 비교 데이터의 이전 데이터를, 대상 데이터가 크면 비교 데이터의 이후 데이터를 같은 방식으로 반복해 비교하는 방식"
   ]
  },
  {
   "cell_type": "code",
   "execution_count": 4,
   "metadata": {},
   "outputs": [
    {
     "name": "stdout",
     "output_type": "stream",
     "text": [
      "찾는 데이터의 인덱스는 2이고 데이터는 9입니다.\n"
     ]
    }
   ],
   "source": [
    "# 코드 15-1 linear_search.py\n",
    "# 선형 탐색 알고리즘\n",
    "\n",
    "def linear_search(data, target):\n",
    "    for idx in range(len(data)):\n",
    "        if data[idx] == target:\n",
    "            return idx\n",
    "    return None\n",
    "\n",
    "if __name__ == \"__main__\":\n",
    "    data = [i ** 2 for i in range(1, 11)]\n",
    "    \n",
    "    target = 9\n",
    "    idx = linear_search(data, target)\n",
    "    \n",
    "    if idx == None:\n",
    "        print(\"{}이 존재하지 않습니다\".format(target))\n",
    "    else:\n",
    "        print(\"찾는 데이터의 인덱스는 {}이고 데이터는 {}입니다.\".format(idx, data[idx]))"
   ]
  },
  {
   "cell_type": "markdown",
   "metadata": {},
   "source": [
    "첫 번째 요소를 찾는 경우: 최선의 경우(Best Case)\n",
    "마지막 요소를 찾는 경우: 최악의 경우(Worst Case)\n",
    "대부분의 경우 최악의 경우를 계산한다. '최악의 경우라도 몇 번의 연산 안에는 실행이 완료된다는 것을 보장'할 수 있기 때문이다."
   ]
  },
  {
   "cell_type": "code",
   "execution_count": 2,
   "metadata": {},
   "outputs": [
    {
     "name": "stdout",
     "output_type": "stream",
     "text": [
      "찾는 데이터의 인덱스는 2이고 데이터는 9입니다\n"
     ]
    }
   ],
   "source": [
    "# 코드 15-2 binary_search.py\n",
    "\n",
    "def binary_search(data, target):\n",
    "    # 리스트를 정렬 상태로 만든다\n",
    "    data.sort()\n",
    "    # start는 시작 인덱스, end는 마지막 인덱스\n",
    "    start = 0 \n",
    "    end = len(data) - 1\n",
    "    \n",
    "    # start와 end가 교차하기 전까지 반복\n",
    "    while start <= end:\n",
    "        mid = (start + end) // 2\n",
    "        \n",
    "        # target 데이터가 mid의 데이터와 같다면\n",
    "        # mid를 반환\n",
    "        if data[mid] == target:\n",
    "            return mid\n",
    "        # target 데이터가 작다면\n",
    "        # end를 mid-1로 지정\n",
    "        elif data[mid] > target:\n",
    "            end = mid - 1\n",
    "            \n",
    "        # target 데이터가 크다면\n",
    "        # start를 mid +1로 지정\n",
    "        else:\n",
    "            start = mid + 1\n",
    "            \n",
    "    # start와 end가 교차했을 떄까지\n",
    "    # target을 찾지 못했다면\n",
    "    # target이 리스트에 존재하지 않는다\n",
    "    return None\n",
    "\n",
    "if __name__ == \"__main__\":\n",
    "    data = [i**2 for i in range(1, 11)]\n",
    "    \n",
    "    target = 9\n",
    "    idx = binary_search(data, target)\n",
    "    \n",
    "    if idx == None:\n",
    "        print(\"{}이 존재하지 않습니다\".format(target))\n",
    "    else:\n",
    "        print(\"찾는 데이터의 인덱스는 {}이고 데이터는 {}입니다\".format(idx, data[idx]))"
   ]
  },
  {
   "cell_type": "code",
   "execution_count": 14,
   "metadata": {},
   "outputs": [
    {
     "name": "stdout",
     "output_type": "stream",
     "text": [
      "[1, 2, 2, 3, 3, 4, 5, 6, 7, 8, 8, 10]\n"
     ]
    }
   ],
   "source": [
    "# 코드 15-3 bubble_sort.py\n",
    "\n",
    "def bubble_sort(data):\n",
    "    data_len = len(data)\n",
    "    \n",
    "    for i in range(data_len - 1):\n",
    "        for j in range(data_len - 1 - i):\n",
    "            if data[j] > data[j+1]:\n",
    "                data[j], data[j+1] = data[j+1], data[j]\n",
    "                \n",
    "# 코드 15-4 bubble_sort.py\n",
    "if __name__ == \"__main__\":\n",
    "    li = [2, 3, 5, 2, 3, 8, 6, 7, 10, 8, 1, 4]\n",
    "    bubble_sort(li)\n",
    "    print(li)"
   ]
  },
  {
   "cell_type": "code",
   "execution_count": 18,
   "metadata": {},
   "outputs": [
    {
     "name": "stdout",
     "output_type": "stream",
     "text": [
      "[1, 2, 3, 4, 5, 5, 5, 6, 6, 7, 8, 9, 10, 11, 12]\n"
     ]
    }
   ],
   "source": [
    "# 코드 15-5 quick_sort.py\n",
    "\n",
    "def quick_sort(data, start, end):\n",
    "    # 탈출 조건\n",
    "    if start >= end:\n",
    "        return\n",
    "    \n",
    "    left = start\n",
    "    right = end\n",
    "    pivot = data[(start + end) // 2]\n",
    "    \n",
    "    # left와 right가 교차할 때까지 반복\n",
    "    # 책에는 잘못 나와 있으니까 길벗 github을 보고 고쳐야된다.\n",
    "    while left <= right:\n",
    "        # left데이터가 pivot보다 크거나 같으면 멈춘다\n",
    "        while data[left] <  pivot:\n",
    "            left += 1\n",
    "                \n",
    "        # right 데이터가 pivot보다 작거나 같으면 멈춘다\n",
    "        while data[right] > pivot:\n",
    "            right -= 1\n",
    "\n",
    "        # left와 right가 교차하지 않았다면 교환\n",
    "        if left <= right:\n",
    "            data[left], data[right] = data[right], data[left]\n",
    "            left += 1\n",
    "            right -= 1\n",
    "\n",
    "    quick_sort(data, start, right)\n",
    "    quick_sort(data, left, end)\n",
    "\n",
    "# 코드 15-6 quick_sort.py\n",
    "if __name__ == \"__main__\":\n",
    "    data = [2, 5, 4, 1, 8, 10, 5, 3, 6, 6, 5, 7, 9, 12, 11]\n",
    "    quick_sort(data, 0, len(data) - 1)\n",
    "    print(data)"
   ]
  },
  {
   "cell_type": "code",
   "execution_count": null,
   "metadata": {},
   "outputs": [],
   "source": []
  }
 ],
 "metadata": {
  "kernelspec": {
   "display_name": "Python 3",
   "language": "python",
   "name": "python3"
  },
  "language_info": {
   "codemirror_mode": {
    "name": "ipython",
    "version": 3
   },
   "file_extension": ".py",
   "mimetype": "text/x-python",
   "name": "python",
   "nbconvert_exporter": "python",
   "pygments_lexer": "ipython3",
   "version": "3.6.5"
  }
 },
 "nbformat": 4,
 "nbformat_minor": 2
}
