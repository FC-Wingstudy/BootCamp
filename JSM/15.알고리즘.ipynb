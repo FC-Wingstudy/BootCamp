{
 "cells": [
  {
   "cell_type": "markdown",
   "metadata": {},
   "source": [
    "선형 탐색: 대상 데이터와 저장되어 있는 데이터를 순서대로 하나씩 비교하는 방식\n",
    "이진 탐색: 대상 데이터와 가운데 위치한 데이터를 비교해 대상 데이터가 작으면 비교 데이터의 이전 데이터를, 대상 데이터가 크면 비교 데이터의 이후 데이터를 같은 방식으로 반복해 비교하는 방식"
   ]
  },
  {
   "cell_type": "code",
   "execution_count": 4,
   "metadata": {},
   "outputs": [
    {
     "name": "stdout",
     "output_type": "stream",
     "text": [
      "찾는 데이터의 인덱스는 2이고 데이터는 9입니다.\n"
     ]
    }
   ],
   "source": [
    "# 코드 15-1 linear_search.py\n",
    "# 선형 탐색 알고리즘\n",
    "\n",
    "def linear_search(data, target):\n",
    "    for idx in range(len(data)):\n",
    "        if data[idx] == target:\n",
    "            return idx\n",
    "    return None\n",
    "\n",
    "if __name__ == \"__main__\":\n",
    "    data = [i ** 2 for i in range(1, 11)]\n",
    "    \n",
    "    target = 9\n",
    "    idx = linear_search(data, target)\n",
    "    \n",
    "    if idx == None:\n",
    "        print(\"{}이 존재하지 않습니다\".format(target))\n",
    "    else:\n",
    "        print(\"찾는 데이터의 인덱스는 {}이고 데이터는 {}입니다.\".format(idx, data[idx]))"
   ]
  },
  {
   "cell_type": "markdown",
   "metadata": {},
   "source": [
    "첫 번째 요소를 찾는 경우: 최선의 경우(Best Case)\n",
    "마지막 요소를 찾는 경우: 최악의 경우(Worst Case)\n",
    "대부분의 경우 최악의 경우를 계산한다. '최악의 경우라도 몇 번의 연산 안에는 실행이 완료된다는 것을 보장'할 수 있기 때문이다."
   ]
  },
  {
   "cell_type": "code",
   "execution_count": null,
   "metadata": {},
   "outputs": [],
   "source": []
  }
 ],
 "metadata": {
  "kernelspec": {
   "display_name": "Python 3",
   "language": "python",
   "name": "python3"
  },
  "language_info": {
   "codemirror_mode": {
    "name": "ipython",
    "version": 3
   },
   "file_extension": ".py",
   "mimetype": "text/x-python",
   "name": "python",
   "nbconvert_exporter": "python",
   "pygments_lexer": "ipython3",
   "version": "3.6.5"
  }
 },
 "nbformat": 4,
 "nbformat_minor": 2
}
