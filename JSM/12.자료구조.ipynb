{
 "cells": [
  {
   "cell_type": "code",
   "execution_count": 1,
   "metadata": {},
   "outputs": [],
   "source": [
    "# 자료구조란 데이터를 효율적으로 검색 변경 삭제할 수 있도록\n",
    "# 저장 관리하는 방법입니다."
   ]
  },
  {
   "cell_type": "code",
   "execution_count": 2,
   "metadata": {},
   "outputs": [
    {
     "name": "stdout",
     "output_type": "stream",
     "text": [
      "Help on method_descriptor:\n",
      "\n",
      "append(...)\n",
      "    L.append(object) -> None -- append object to end\n",
      "\n"
     ]
    }
   ],
   "source": [
    "help(list.append)"
   ]
  },
  {
   "cell_type": "code",
   "execution_count": 3,
   "metadata": {},
   "outputs": [],
   "source": [
    "# 코드 12-1 linked_list.py\n",
    "\n",
    "class Node:\n",
    "    def __init__(self, data=None):\n",
    "        # 노드는 데이터 부분과\n",
    "        # 다음 노드를 가리키는 참조 부분을 가진다\n",
    "        self.__data = data\n",
    "        self.__next = None\n",
    "    # 노드 삭제를 확인하기 위한 코드\n",
    "    def __del__(self):\n",
    "        print(\"data of {} is deleted\".format(self.data))\n",
    "        \n",
    "    @property\n",
    "    def data(self):\n",
    "        return self.__data\n",
    "    \n",
    "    @data.setter\n",
    "    def data(self, data):\n",
    "        self.__data = data\n",
    "        \n",
    "    @property\n",
    "    def next(self):\n",
    "        return self.__next\n",
    "    \n",
    "    @next.setter\n",
    "    def next(self, n):\n",
    "        self.__next = n"
   ]
  },
  {
   "cell_type": "code",
   "execution_count": 7,
   "metadata": {},
   "outputs": [],
   "source": [
    "# 코드 12-2 linked_list.py\n",
    "class Linked_list:\n",
    "    def __init__(self):\n",
    "        # 연결 리스트의 첫 번째 노드를 가리킴\n",
    "        self.head = None\n",
    "        # 연결 리스트의 마지막 노드를 가리킴\n",
    "        self.tail = None\n",
    "        # 데이터 개수\n",
    "        self.d_size = 0\n",
    "        \n",
    "# 코드 12-3 linked_list.py\n",
    "    def empty(self):\n",
    "        if self.d_size == 0:\n",
    "            return True\n",
    "        else:\n",
    "            return False\n",
    "        \n",
    "    def size(self):\n",
    "        return self.d_size\n",
    "    \n",
    "# 코드 12-4 linked_list.py\n",
    "    def append(self, data):\n",
    "        # 삽입할 노드를 만든다\n",
    "        new_node = Node(data)\n",
    "        # 첫 번째 경우\n",
    "        # 리스트가 비어 있을때\n",
    "        if self.empty():\n",
    "            self.head = new_node\n",
    "            self.tail = new_node\n",
    "            self.d_size += 1\n",
    "        # 데이터가 한 개 이상 있을 때\n",
    "        else:\n",
    "            self.tail.next = new_node\n",
    "            self.tail = new_node\n",
    "            self.d_size += 1"
   ]
  },
  {
   "cell_type": "code",
   "execution_count": null,
   "metadata": {},
   "outputs": [],
   "source": []
  }
 ],
 "metadata": {
  "kernelspec": {
   "display_name": "Python 3",
   "language": "python",
   "name": "python3"
  },
  "language_info": {
   "codemirror_mode": {
    "name": "ipython",
    "version": 3
   },
   "file_extension": ".py",
   "mimetype": "text/x-python",
   "name": "python",
   "nbconvert_exporter": "python",
   "pygments_lexer": "ipython3",
   "version": "3.6.5"
  }
 },
 "nbformat": 4,
 "nbformat_minor": 2
}
