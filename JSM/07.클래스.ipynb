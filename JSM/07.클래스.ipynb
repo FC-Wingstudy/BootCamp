{
 "cells": [
  {
   "cell_type": "code",
   "execution_count": 7,
   "metadata": {},
   "outputs": [],
   "source": [
    "# 코드 7-1 is_a.py\n",
    "\n",
    "class Computer:\n",
    "    def __init__(self, cpu, ram):\n",
    "        self.cpu = cpu\n",
    "        self.ram = ram\n",
    "        \n",
    "    def browse(self):\n",
    "        print('browse')\n",
    "        \n",
    "    def work(self):\n",
    "        print('work')"
   ]
  },
  {
   "cell_type": "code",
   "execution_count": 8,
   "metadata": {},
   "outputs": [],
   "source": [
    "# 코드 7-2 is_a.py\n",
    "\n",
    "class Laptop(Computer):\n",
    "    # 멤버 추가\n",
    "    def __init__(self, cpu, ram, battery):\n",
    "        super().__init__(cpu, ram)\n",
    "        self.battery = battery\n",
    "      \n",
    "    # 메서드 추가\n",
    "    def move(self, to):\n",
    "        print('move to {}'.format(to))"
   ]
  },
  {
   "cell_type": "code",
   "execution_count": 9,
   "metadata": {},
   "outputs": [
    {
     "name": "stdout",
     "output_type": "stream",
     "text": [
      "browse\n",
      "work\n",
      "move to office\n"
     ]
    }
   ],
   "source": [
    "# 코드 7-3 is_a.py\n",
    "\n",
    "if __name__ == \"__main__\":\n",
    "    lap = Laptop('intel', 16, 'powerful')\n",
    "    lap.browse()\n",
    "    lap.work()\n",
    "    lap.move('office')"
   ]
  },
  {
   "cell_type": "code",
   "execution_count": 10,
   "metadata": {},
   "outputs": [],
   "source": [
    "# 코드 7-4 composition.py\n",
    "# 합성관계\n",
    "\n",
    "class CPU:\n",
    "    pass\n",
    "\n",
    "class RAM:\n",
    "    pass\n",
    "\n",
    "class Computer:\n",
    "    def __init__(self):\n",
    "        self.cpu = CPU()\n",
    "        self.ram = RAM()"
   ]
  },
  {
   "cell_type": "code",
   "execution_count": 11,
   "metadata": {},
   "outputs": [],
   "source": [
    "# 코드 7-5 aggregation.py\n",
    "# 통합관계\n",
    "\n",
    "class Gun:\n",
    "    def __init__(self, kind):\n",
    "        self.kind = kind\n",
    "        \n",
    "    def bang(self):\n",
    "        print('bang bang!')\n",
    "        \n",
    "class Police:\n",
    "    def __init__(self):\n",
    "        self.gun = None\n",
    "        \n",
    "    def acquire_gun(self, gun):\n",
    "        self.gun = gun\n",
    "        \n",
    "    def release_gun(self):\n",
    "        gun = self.gun\n",
    "        self.gun = None\n",
    "        return gun\n",
    "    \n",
    "    def shoot(self):\n",
    "        if self.gun:\n",
    "            self.gun.bang()\n",
    "        else:\n",
    "            print('Unable to shoot')"
   ]
  },
  {
   "cell_type": "code",
   "execution_count": 13,
   "metadata": {},
   "outputs": [
    {
     "name": "stdout",
     "output_type": "stream",
     "text": [
      "p1 shoots\n",
      "Unable to shoot\n",
      "\n",
      "p1 shoots again\n",
      "bang bang!\n",
      "\n",
      "p1 shoots again\n",
      "Unable to shoot\n"
     ]
    }
   ],
   "source": [
    "# 코드 7-6 aggregation.py\n",
    "\n",
    "if __name__ == \"__main__\":\n",
    "    p1 = Police()\n",
    "    print('p1 shoots')\n",
    "    p1.shoot()\n",
    "    print('')\n",
    "    \n",
    "    \n",
    "    # p1은 아직 총을 소유하지 않음.\n",
    "    revolver = Gun('Revolver')\n",
    "    # p1이 revolver획득\n",
    "    p1.acquire_gun(revolver)\n",
    "    # 이제 p1이 총을 소유하므로\n",
    "    # revolver는 None이 된다.\n",
    "    \n",
    "    revolver = None\n",
    "    print('p1 shoots again')\n",
    "    p1.shoot()\n",
    "    print('')\n",
    "    \n",
    "    \n",
    "    # p1이 총을 반납했으므로\n",
    "    # 더 이상 총을 소유하지 않는다.\n",
    "    \n",
    "    revolver = p1.release_gun()\n",
    "    print('p1 shoots again')\n",
    "    p1.shoot()"
   ]
  },
  {
   "cell_type": "code",
   "execution_count": 14,
   "metadata": {},
   "outputs": [],
   "source": [
    "# 코드 7-7 method_overriding.py\n",
    "\n",
    "class CarOwner:\n",
    "    def __init__(self, name):\n",
    "        self.name = name\n",
    "        \n",
    "    def concentrate(self):\n",
    "        print('{} can not do anything else'.format(self.name))\n",
    "        \n",
    "class Car:\n",
    "    def __init__(self, owner_name):\n",
    "        self.owner = CarOwner(owner_name)\n",
    "        \n",
    "    def drive(self):\n",
    "        self.owner.concentrate()\n",
    "        print('{} is driving now.'.format(self.owner.name))"
   ]
  },
  {
   "cell_type": "code",
   "execution_count": 16,
   "metadata": {},
   "outputs": [],
   "source": [
    "# 코드 7-8 method_overriding.py\n",
    "\n",
    "class SelfDrivingCar(Car):\n",
    "    def drive(self):\n",
    "        print('Car is driving by itself')"
   ]
  },
  {
   "cell_type": "code",
   "execution_count": 17,
   "metadata": {},
   "outputs": [
    {
     "name": "stdout",
     "output_type": "stream",
     "text": [
      "Greg can not do anything else\n",
      "Greg is driving now.\n",
      "\n",
      "Car is driving by itself\n"
     ]
    }
   ],
   "source": [
    "# 코드 7-9 method_overriding.py\n",
    "\n",
    "if __name__ == \"__main__\":\n",
    "    car = Car('Greg')\n",
    "    car.drive()\n",
    "    print('')\n",
    "    \n",
    "    \n",
    "    s_car = SelfDrivingCar('John')\n",
    "    s_car.drive()"
   ]
  },
  {
   "cell_type": "code",
   "execution_count": 19,
   "metadata": {},
   "outputs": [
    {
     "name": "stdout",
     "output_type": "stream",
     "text": [
      "eat meat\n",
      "eat grass\n",
      "eat meat and grass\n"
     ]
    }
   ],
   "source": [
    "# 코드 7-10 polymorphism_1.py\n",
    "\n",
    "class Animal:\n",
    "    def eat(self):\n",
    "        print('eat something')\n",
    "        \n",
    "class Lion(Animal):\n",
    "    def eat(self):\n",
    "        print('eat meat')\n",
    "        \n",
    "class Deer(Animal):\n",
    "    def eat(self):\n",
    "        print('eat grass')\n",
    "        \n",
    "class Human(Animal):\n",
    "    def eat(self):\n",
    "        print('eat meat and grass')\n",
    "        \n",
    "if __name__ == \"__main__\":\n",
    "    animals = []\n",
    "    animals.append(Lion())\n",
    "    animals.append(Deer())\n",
    "    animals.append(Human())\n",
    "    \n",
    "    for animal in animals:\n",
    "        animal.eat()"
   ]
  },
  {
   "cell_type": "code",
   "execution_count": 20,
   "metadata": {},
   "outputs": [],
   "source": [
    "# 코드 7-11 polymorphism_2.py\n",
    "\n",
    "from abc import *\n",
    "\n",
    "class Animal(metaclass = ABCMeta):\n",
    "    @abstractmethod\n",
    "    def eat(self):\n",
    "        pass\n",
    "    "
   ]
  },
  {
   "cell_type": "code",
   "execution_count": 22,
   "metadata": {},
   "outputs": [],
   "source": [
    "# 코드 7-12 character.py\n",
    "\n",
    "from abc import *\n",
    "\n",
    "# 추상 클래스로 만든다.\n",
    "class Character(metaclass = ABCMeta):\n",
    "    def __init__(self, name, hp, power):\n",
    "        self.name = name\n",
    "        self.hp = hp\n",
    "        self.power = power\n",
    "    \n",
    "    # 추상 메서드\n",
    "    # 파생 클래스는 반드시 attack()과 get_damage() 메서드를 오버라이딩 해야 한다.\n",
    "    \n",
    "    @abstractmethod\n",
    "    def attack(self, other, attack_kind):\n",
    "        pass\n",
    "    \n",
    "    @abstractmethod\n",
    "    def get_damage(self, power, attack_kind):\n",
    "        pass\n",
    "    \n",
    "    def __str__(self):\n",
    "        return '{} : {}'.format(self.name, self.HP)"
   ]
  },
  {
   "cell_type": "code",
   "execution_count": 23,
   "metadata": {},
   "outputs": [],
   "source": [
    "# 코드 7-13 character.py\n",
    "\n",
    "class Player(Character):\n",
    "    def __init__(self, name = 'player', hp = 100, power = 10, *attack_kinds):\n",
    "        super().__init__(name, hp, power)\n",
    "        \n",
    "        # 추가된 인스턴스 멤버\n",
    "        self.skills = []\n",
    "        for attack_kind in attack_kinds:\n",
    "            self.skills.append(attack_kind)"
   ]
  },
  {
   "cell_type": "code",
   "execution_count": null,
   "metadata": {},
   "outputs": [],
   "source": []
  }
 ],
 "metadata": {
  "kernelspec": {
   "display_name": "Python 3",
   "language": "python",
   "name": "python3"
  },
  "language_info": {
   "codemirror_mode": {
    "name": "ipython",
    "version": 3
   },
   "file_extension": ".py",
   "mimetype": "text/x-python",
   "name": "python",
   "nbconvert_exporter": "python",
   "pygments_lexer": "ipython3",
   "version": "3.6.5"
  }
 },
 "nbformat": 4,
 "nbformat_minor": 2
}
