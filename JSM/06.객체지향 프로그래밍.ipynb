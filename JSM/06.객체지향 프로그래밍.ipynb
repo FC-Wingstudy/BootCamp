{
 "cells": [
  {
   "cell_type": "code",
   "execution_count": 16,
   "metadata": {},
   "outputs": [
    {
     "data": {
      "text/plain": [
       "['시트1']"
      ]
     },
     "execution_count": 16,
     "metadata": {},
     "output_type": "execute_result"
    }
   ],
   "source": [
    "from openpyxl import *\n",
    "wb = load_workbook('exam.xlsx')\n",
    "wb.sheetnames"
   ]
  },
  {
   "cell_type": "code",
   "execution_count": 17,
   "metadata": {},
   "outputs": [
    {
     "data": {
      "text/plain": [
       "<Worksheet \"시트1\">"
      ]
     },
     "execution_count": 17,
     "metadata": {},
     "output_type": "execute_result"
    }
   ],
   "source": [
    "ws = wb.active\n",
    "ws"
   ]
  },
  {
   "cell_type": "code",
   "execution_count": 18,
   "metadata": {},
   "outputs": [
    {
     "data": {
      "text/plain": [
       "(<Cell '시트1'.A1>, <Cell '시트1'.B1>, <Cell '시트1'.C1>, <Cell '시트1'.D1>)"
      ]
     },
     "execution_count": 18,
     "metadata": {},
     "output_type": "execute_result"
    }
   ],
   "source": [
    "g = ws.rows\n",
    "cells = next(g)\n",
    "cells"
   ]
  },
  {
   "cell_type": "code",
   "execution_count": 19,
   "metadata": {},
   "outputs": [
    {
     "data": {
      "text/plain": [
       "['name', 'math', 'literature', 'science']"
      ]
     },
     "execution_count": 19,
     "metadata": {},
     "output_type": "execute_result"
    }
   ],
   "source": [
    "keys = []\n",
    "for cell in cells:\n",
    "    keys.append(cell.value)\n",
    "keys"
   ]
  },
  {
   "cell_type": "code",
   "execution_count": 20,
   "metadata": {},
   "outputs": [
    {
     "data": {
      "text/plain": [
       "[{'name': 'greg', 'math': 95, 'literature': 65, 'science': 75},\n",
       " {'name': 'john', 'math': 25, 'literature': 30, 'science': 55},\n",
       " {'name': 'yang', 'math': 50, 'literature': 45, 'science': 40},\n",
       " {'name': 'timothy', 'math': 15, 'literature': 65, 'science': 90},\n",
       " {'name': 'melisa', 'math': 100, 'literature': 100, 'science': 100},\n",
       " {'name': 'thor', 'math': 10, 'literature': 15, 'science': 20},\n",
       " {'name': 'elen', 'math': 25, 'literature': 50, 'science': 100},\n",
       " {'name': 'mark', 'math': 80, 'literature': 75, 'science': 80},\n",
       " {'name': 'steve', 'math': 95, 'literature': 100, 'science': 95},\n",
       " {'name': 'anna', 'math': 20, 'literature': 20, 'science': 20}]"
      ]
     },
     "execution_count": 20,
     "metadata": {},
     "output_type": "execute_result"
    }
   ],
   "source": [
    "student_data = []\n",
    "for row in g:\n",
    "    dic = {k : c.value for k, c in zip(keys, row)}\n",
    "    student_data.append(dic)\n",
    "student_data"
   ]
  },
  {
   "cell_type": "code",
   "execution_count": 21,
   "metadata": {},
   "outputs": [
    {
     "data": {
      "text/plain": [
       "{'a': 97, 'b': 98, 'c': 99, 'd': 100}"
      ]
     },
     "execution_count": 21,
     "metadata": {},
     "output_type": "execute_result"
    }
   ],
   "source": [
    "# 딕셔너리 컴프리헨션\n",
    "tu_li = [('a', 97), ('b', 98), ('c', 99), ('d', 100)]\n",
    "dic = {k : v for k, v in tu_li}\n",
    "dic"
   ]
  },
  {
   "cell_type": "code",
   "execution_count": 22,
   "metadata": {},
   "outputs": [
    {
     "name": "stdout",
     "output_type": "stream",
     "text": [
      "평균: 51.5, 분산:1240.2, 표준편차: 35.2\n",
      "성적은 평균 이상이지만 학생들이 실력 차이가 크다. 주의 요망!\n"
     ]
    }
   ],
   "source": [
    "# 코드 6-1\n",
    "\n",
    "import openpyxl\n",
    "import math\n",
    "\n",
    "raw_data = {}\n",
    "wb = openpyxl.load_workbook('class_2_3.xlsx')\n",
    "ws = wb.active\n",
    "g = ws.rows\n",
    "\n",
    "for name, score in g:\n",
    "    raw_data[name.value] = score.value\n",
    "\n",
    "scores = list(raw_data.values())\n",
    "\n",
    "s = 0\n",
    "\n",
    "for score in scores:\n",
    "    s += score\n",
    "\n",
    "avrg = round(s/len(scores), 1)\n",
    "\n",
    "s = 0\n",
    "\n",
    "for score in scores:\n",
    "    s += (score - avrg) ** 2\n",
    "    \n",
    "variance = round(s/len(scores), 1)\n",
    "\n",
    "std_dev = round(math.sqrt(variance), 1)\n",
    "\n",
    "print(\"평균: {0}, 분산:{1}, 표준편차: {2}\".format(avrg, variance, std_dev))\n",
    "\n",
    "if avrg < 50 and std_dev > 20:\n",
    "    print(\"성적이 너무 저조하고 학생들의 실력 차이가 너무 크다.\")\n",
    "elif avrg > 50 and std_dev > 20:\n",
    "    print(\"성적은 평균 이상이지만 학생들이 실력 차이가 크다. 주의 요망!\")\n",
    "elif avrg < 50 and std_dev < 20:\n",
    "    print(\"학생들의 실력 차이는 크지 않지만 성적이 너무 저조하다. 주의 요망!\")\n",
    "elif avrg > 50 and std_dev < 20:\n",
    "    print(\"성적도 평균 이상이고 학생들의 실력 차이도 크지 않다.\")"
   ]
  },
  {
   "cell_type": "code",
   "execution_count": 23,
   "metadata": {},
   "outputs": [],
   "source": [
    "# 코드 6-2\n",
    "\n",
    "raw_data = {}\n",
    "wb = openpyxl.load_workbook('class_2_3.xlsx')\n",
    "ws = wb.active\n",
    "g = ws.rows\n",
    "\n",
    "for name, score in g:\n",
    "    raw_data[name.value] = score.value"
   ]
  },
  {
   "cell_type": "code",
   "execution_count": 24,
   "metadata": {},
   "outputs": [],
   "source": [
    "# 코드 6-3 functions.py\n",
    "\n",
    "import openpyxl\n",
    "import math\n",
    "\n",
    "def get_data_from_excel(filename):\n",
    "    # get_data_exclel(filname) - > {'name1':'score1', 'name2':'score2', ....}\n",
    "    # 엑셀 파일에서 데이터를 가져옵니다.\n",
    "    # 반환값은 key가 학생 이름이고 value가 점수인 딕셔너리입니다.\n",
    "    dic = {}\n",
    "    wb = openpyxl.load_workbook(filename)\n",
    "    ws = wb.active\n",
    "    g = ws.rows\n",
    "    \n",
    "    for name, score in g:\n",
    "        dic[name.value] = score.value\n",
    "        \n",
    "    return dic\n",
    "    \n",
    "    \n",
    "    \n",
    "    "
   ]
  },
  {
   "cell_type": "code",
   "execution_count": 25,
   "metadata": {},
   "outputs": [],
   "source": [
    "# 코드 6-4 (코드 6-1에서 평균, 분산, 표준편차를 구하는 부분) functions.py\n",
    "\n",
    "s = 0\n",
    "\n",
    "for score in scores:\n",
    "    s += score\n",
    "\n",
    "avrg = round(s/len(scores), 1)\n",
    "\n",
    "s = 0\n",
    "\n",
    "for score in scores:\n",
    "    s += (score - avrg) ** 2\n",
    "    \n",
    "variance = round(s/len(scores), 1)\n",
    "\n",
    "std_dev = round(math.sqrt(variance), 1)"
   ]
  },
  {
   "cell_type": "code",
   "execution_count": 26,
   "metadata": {},
   "outputs": [],
   "source": [
    "# 코드 6-5 functions.py 함수로 바꾼 코드\n",
    "\n",
    "def average(scores):\n",
    "    s = 0\n",
    "    for score in scores:\n",
    "        s += score\n",
    "    return round(s/len(scores), 1)\n",
    "\n",
    "def variance(scores, avrg):\n",
    "    s = 0\n",
    "    for score in scores:\n",
    "        s += (score - avrg) ** 2\n",
    "    return round(s/len(scores), 1)\n",
    "\n",
    "def std_dev(variance):\n",
    "    return round(math.sqrt(variance), 1)"
   ]
  },
  {
   "cell_type": "code",
   "execution_count": 27,
   "metadata": {},
   "outputs": [],
   "source": [
    "# 코드 6-6 functions.py\n",
    "# (evaluateClass()함수는 반 평균, 학년 전체 평균, 반의 표준편차,\n",
    "#  비교하고자 하는 표준편차를 인자로 전달하면 이에 맞는 평가를 출력합니다.)\n",
    "\n",
    "def evaluateclass(avrg, total_avrg, std_dev, sd):\n",
    "    # evaluateclass(avrg, total_avrg, std_dev, sd) -> None\n",
    "    # avrg:반 성적 평균\n",
    "    # total_avrg: 학년 전체 성적 평균\n",
    "    # std_dev: 반의 표준편차\n",
    "    # sd: 원하는 표준편차 기준\n",
    "    if avrg < total_avrg and std_dev > sd:\n",
    "        print(\"성적이 너무 저조하고 학생들의 실력 차이가 너무 크다.\")\n",
    "    elif avrg > total_avrg and std_dev > sd:\n",
    "        print(\"성적은 평균 이상이지만 학생들의 실력 차이가 크다. 주의 요망!\")\n",
    "    elif avrg > total_avrg and std_dev < sd:\n",
    "        print(\"학생들의 실력 차이는 크지 않지만 성적이 너무 저조하다. 주의 요망!\")\n",
    "    elif avrg > total_avrg and std_dev < sd:\n",
    "        print(\"성적도 평균 이상이고 학생들의 실력 차이도 크지 않다.\")\n",
    "        "
   ]
  },
  {
   "cell_type": "code",
   "execution_count": 28,
   "metadata": {},
   "outputs": [
    {
     "name": "stdout",
     "output_type": "stream",
     "text": [
      "평균: 51.5, 분산: 1240.2, 표준편차: 35.2\n",
      "성적은 평균 이상이지만 학생들의 실력 차이가 크다. 주의 요망!\n"
     ]
    }
   ],
   "source": [
    "# 코드 6-7 main.py\n",
    "# from functions import *\n",
    "\n",
    "# 학년 전체 학생의 평균 : 50점\n",
    "\n",
    "if __name__ == \"__main__\":\n",
    "    raw_data = get_data_from_excel('class_2_3.xlsx')\n",
    "    scores = list(raw_data.values())\n",
    "    \n",
    "    avrg = average(scores)\n",
    "    variance = variance(scores, avrg)\n",
    "    standard_deviation = std_dev(variance)\n",
    "    \n",
    "    print(\"평균: {0}, 분산: {1}, 표준편차: {2}\".format(avrg, variance, standard_deviation))\n",
    "    evaluateclass(avrg, 50, standard_deviation, 20)"
   ]
  },
  {
   "cell_type": "code",
   "execution_count": 3,
   "metadata": {},
   "outputs": [],
   "source": [
    "# 객체지향\n",
    "# 코드 6-8 pseudo_class.py\n",
    "\n",
    "# 인스턴스 멤버 초기화\n",
    "def person_init(name, money):\n",
    "    obj = {'name': name, 'money' : money}\n",
    "    obj['give_money'] = Person[1]\n",
    "    obj['get_money'] = Person[2]\n",
    "    obj['show'] = Person[3]\n",
    "    return obj"
   ]
  },
  {
   "cell_type": "code",
   "execution_count": 4,
   "metadata": {},
   "outputs": [],
   "source": [
    "# 코드 6-9 pseudo_class.py\n",
    "def give_money(self, other, money):\n",
    "    self['money'] -= money\n",
    "    other['get_money'](other, money)\n",
    "\n",
    "def get_money(self, money):\n",
    "    self['money'] += money\n",
    "    \n",
    "def show(self):\n",
    "    print('{} : {}'.format(self['name'], self['money']))"
   ]
  },
  {
   "cell_type": "code",
   "execution_count": 5,
   "metadata": {},
   "outputs": [],
   "source": [
    "# 코드 6-10 pseudo_class.py\n",
    "Person = person_init, give_money, get_money, show"
   ]
  },
  {
   "cell_type": "code",
   "execution_count": 6,
   "metadata": {},
   "outputs": [
    {
     "name": "stdout",
     "output_type": "stream",
     "text": [
      "greg : 5000\n",
      "john : 2000\n",
      "\n",
      "greg : 3000\n",
      "john : 4000\n"
     ]
    }
   ],
   "source": [
    "# 코드 6-11 pseudo_class.py\n",
    "if __name__ == \"__main__\":\n",
    "    \n",
    "    # 객체 생성\n",
    "    \n",
    "    g = Person[0]('greg', 5000)\n",
    "    j = Person[0]('john', 2000)\n",
    "    \n",
    "    g['show'](g)\n",
    "    j['show'](j)\n",
    "    print('')\n",
    "    \n",
    "    # 메시지 패싱\n",
    "    \n",
    "    g['give_money'](g, j, 2000)\n",
    "    \n",
    "    g['show'](g)\n",
    "    j['show'](j)"
   ]
  },
  {
   "cell_type": "code",
   "execution_count": 7,
   "metadata": {},
   "outputs": [],
   "source": [
    "# 코드 6-12 class_person.py\n",
    "class Person:\n",
    "    def __init__(self, name, money):\n",
    "        self.name = name\n",
    "        self.money = money\n",
    "        \n",
    "    def give_money(self, other, money):\n",
    "        self.money -= money\n",
    "        other.get_money(money)\n",
    "    \n",
    "    def get_money(self, money):\n",
    "        self.money += money\n",
    "        \n",
    "    def show(self):\n",
    "        print('{} : {}'.format(self.name, self.money))"
   ]
  },
  {
   "cell_type": "code",
   "execution_count": 8,
   "metadata": {},
   "outputs": [
    {
     "name": "stdout",
     "output_type": "stream",
     "text": [
      "greg : 5000\n",
      "john : 2000\n",
      "\n",
      "greg : 3000\n",
      "john : 4000\n"
     ]
    }
   ],
   "source": [
    "# 코드 6-13 class_Person.py\n",
    "if __name__ == \"__main__\":\n",
    "    g = Person('greg', 5000)\n",
    "    j = Person('john', 2000)\n",
    "    \n",
    "    g.show()\n",
    "    j.show()\n",
    "    \n",
    "    g.give_money(j, 2000)\n",
    "    print('')\n",
    "    \n",
    "    g.show()\n",
    "    j.show()"
   ]
  },
  {
   "cell_type": "code",
   "execution_count": 9,
   "metadata": {},
   "outputs": [
    {
     "data": {
      "text/plain": [
       "function"
      ]
     },
     "execution_count": 9,
     "metadata": {},
     "output_type": "execute_result"
    }
   ],
   "source": [
    "# 파이썬의 클래스\n",
    "type(Person.__init__)\n"
   ]
  },
  {
   "cell_type": "code",
   "execution_count": 10,
   "metadata": {},
   "outputs": [
    {
     "data": {
      "text/plain": [
       "function"
      ]
     },
     "execution_count": 10,
     "metadata": {},
     "output_type": "execute_result"
    }
   ],
   "source": [
    "# 파이썬의 클래스\n",
    "type(Person.give_money)"
   ]
  },
  {
   "cell_type": "code",
   "execution_count": 11,
   "metadata": {},
   "outputs": [
    {
     "data": {
      "text/plain": [
       "function"
      ]
     },
     "execution_count": 11,
     "metadata": {},
     "output_type": "execute_result"
    }
   ],
   "source": [
    "# 파이썬의 클래스\n",
    "type(Person.get_money)"
   ]
  },
  {
   "cell_type": "code",
   "execution_count": 12,
   "metadata": {},
   "outputs": [
    {
     "data": {
      "text/plain": [
       "function"
      ]
     },
     "execution_count": 12,
     "metadata": {},
     "output_type": "execute_result"
    }
   ],
   "source": [
    "# 파이썬의 클래스\n",
    "type(Person.show)"
   ]
  },
  {
   "cell_type": "code",
   "execution_count": 13,
   "metadata": {},
   "outputs": [
    {
     "data": {
      "text/plain": [
       "method"
      ]
     },
     "execution_count": 13,
     "metadata": {},
     "output_type": "execute_result"
    }
   ],
   "source": [
    "type(g.give_money)"
   ]
  },
  {
   "cell_type": "code",
   "execution_count": 14,
   "metadata": {},
   "outputs": [
    {
     "data": {
      "text/plain": [
       "method"
      ]
     },
     "execution_count": 14,
     "metadata": {},
     "output_type": "execute_result"
    }
   ],
   "source": [
    "type(g.get_money)"
   ]
  },
  {
   "cell_type": "code",
   "execution_count": 15,
   "metadata": {},
   "outputs": [
    {
     "data": {
      "text/plain": [
       "method"
      ]
     },
     "execution_count": 15,
     "metadata": {},
     "output_type": "execute_result"
    }
   ],
   "source": [
    "type(g.show)"
   ]
  },
  {
   "cell_type": "code",
   "execution_count": 18,
   "metadata": {},
   "outputs": [
    {
     "data": {
      "text/plain": [
       "['__call__',\n",
       " '__class__',\n",
       " '__delattr__',\n",
       " '__dir__',\n",
       " '__doc__',\n",
       " '__eq__',\n",
       " '__format__',\n",
       " '__func__',\n",
       " '__ge__',\n",
       " '__get__',\n",
       " '__getattribute__',\n",
       " '__gt__',\n",
       " '__hash__',\n",
       " '__init__',\n",
       " '__init_subclass__',\n",
       " '__le__',\n",
       " '__lt__',\n",
       " '__ne__',\n",
       " '__new__',\n",
       " '__reduce__',\n",
       " '__reduce_ex__',\n",
       " '__repr__',\n",
       " '__self__',\n",
       " '__setattr__',\n",
       " '__sizeof__',\n",
       " '__str__',\n",
       " '__subclasshook__']"
      ]
     },
     "execution_count": 18,
     "metadata": {},
     "output_type": "execute_result"
    }
   ],
   "source": [
    "dir(g.give_money)"
   ]
  },
  {
   "cell_type": "code",
   "execution_count": 16,
   "metadata": {},
   "outputs": [],
   "source": [
    "# 코드 6-14 cls_mem_met.py\n",
    "class A:\n",
    "    c_mem = 10\n",
    "    \n",
    "    @classmethod\n",
    "    def cls_f(cls):\n",
    "        print(cls.c_mem)\n",
    "        \n",
    "    def __init__(self, num):\n",
    "        self.i_mem = num\n",
    "        \n",
    "    def ins_f(self):\n",
    "        print(self.i_mem)"
   ]
  },
  {
   "cell_type": "code",
   "execution_count": 17,
   "metadata": {},
   "outputs": [
    {
     "name": "stdout",
     "output_type": "stream",
     "text": [
      "10\n",
      "10\n"
     ]
    }
   ],
   "source": [
    "# 코드 6-15 cls_mem_met.py\n",
    "if __name__ == \"__main__\":\n",
    "    print(A.c_mem)\n",
    "    A.cls_f()"
   ]
  },
  {
   "cell_type": "code",
   "execution_count": 44,
   "metadata": {},
   "outputs": [
    {
     "name": "stdout",
     "output_type": "stream",
     "text": [
      "10\n",
      "10\n",
      "10\n",
      "10\n"
     ]
    }
   ],
   "source": [
    "# 코드 6-16 cls.mem_met.py\n",
    "if __name__ == \"__main__\":\n",
    "    print(A.c_mem)\n",
    "    A.cls_f()\n",
    "    \n",
    "    a = A(20)\n",
    "    print(a.c_mem)\n",
    "    a.cls_f()"
   ]
  },
  {
   "cell_type": "code",
   "execution_count": 45,
   "metadata": {},
   "outputs": [],
   "source": [
    "# 코드 6-17 account.py\n",
    "class Account:\n",
    "    num_acnt = 0\n",
    "    \n",
    "    @classmethod\n",
    "    def get_num_acnt(cls):\n",
    "        \n",
    "        # cls.get_num_acnt() -> integer\n",
    "        return cls.num_acnt\n",
    "    \n",
    "    def __init__(self, name, money):\n",
    "        self.user = name\n",
    "        self.balance = money\n",
    "        Account.num_acnt += 1\n",
    "        \n",
    "    def deposit(self, money):\n",
    "        if money < 0:\n",
    "            return\n",
    "        self.balance += money\n",
    "        \n",
    "    def withdraw(self, money):\n",
    "        if money > 0 and money <= self.balance:\n",
    "            self.balance -= money\n",
    "            return money\n",
    "        else:\n",
    "            return None\n",
    "        \n",
    "    def transfer(self, other, money):\n",
    "        # obj.transfer(other, money) -> bool\n",
    "        # other: The object to interact with\n",
    "        # money: money the user wants to send\n",
    "        \n",
    "        # returns True if the balance is enough to transfer\n",
    "        # returns False if not\n",
    "        \n",
    "        mon = self.withdraw(money)\n",
    "        if mon:\n",
    "            other.deposit(mon)\n",
    "            return True\n",
    "        else:\n",
    "            return False\n",
    "        \n",
    "    def __str__(self):\n",
    "        return 'user : {}, balance : {}'.format(self.user, self.balance)"
   ]
  },
  {
   "cell_type": "code",
   "execution_count": 46,
   "metadata": {},
   "outputs": [
    {
     "name": "stdout",
     "output_type": "stream",
     "text": [
      "object created\n",
      "user : greg, balance : 5000\n",
      "user : john, balance : 1000\n",
      "\n",
      "deposit\n",
      "user : greg, balance : 5500\n",
      "\n",
      "withdraw\n",
      "withdraw money : 1500\n",
      "\n",
      "class member\n",
      "2\n",
      "\n",
      "class method\n",
      "The number of account : 2\n",
      "\n",
      "message passing\n",
      "user : greg, balance : 4000\n",
      "user : john, balance : 1000\n",
      "transfer succeeded\n",
      "user : greg, balance : 2000\n",
      "user : john, balance : 3000\n"
     ]
    }
   ],
   "source": [
    "# 코드 6-18 account.py\n",
    "if __name__ == \"__main__\":\n",
    "    # 객체 생성\n",
    "    my_acnt = Account('greg', 5000)\n",
    "    your_acnt = Account('john', 1000)\n",
    "    \n",
    "    # 생성 확인\n",
    "    print('object created')\n",
    "    print(my_acnt)\n",
    "    print(your_acnt)\n",
    "    print()\n",
    "    \n",
    "    # 인스턴스 메서드를 호출하는 방법\n",
    "    # 1. by object\n",
    "    my_acnt.deposit(500)\n",
    "    # 2. by class\n",
    "    # Account.deposit(my_acnt, 500)\n",
    "    \n",
    "    # deposit 확인\n",
    "    print('deposit')\n",
    "    print(my_acnt)\n",
    "    print()\n",
    "    \n",
    "    # withdraw 함수 사용법\n",
    "    print('withdraw')\n",
    "    money = my_acnt.withdraw(1500)\n",
    "    if money:\n",
    "        print('withdraw money : {}'.format(money))\n",
    "    else:\n",
    "        print('Not enough to withdraw')\n",
    "    print()\n",
    "    \n",
    "    # 클래스 멤버에 접근하는 방법\n",
    "    print('class member')\n",
    "    \n",
    "    # 1.by class\n",
    "    print(Account.num_acnt)\n",
    "    \n",
    "    # 2.by object\n",
    "    # print(my_acnt.num_acnt)\n",
    "    print()\n",
    "    \n",
    "    # 클래스 메서드를 호출하는 방법\n",
    "    print('class method')\n",
    "    \n",
    "    # 1.by class\n",
    "    n_acnt = Account.get_num_acnt()\n",
    "    \n",
    "    # 2.by object\n",
    "    # n_acnt = my_acnt.get_num_acnt()\n",
    "    \n",
    "    print('The number of account : {}'.format(n_acnt))\n",
    "    print()\n",
    "    \n",
    "    \n",
    "    # 메시지 패싱\n",
    "    print(\"message passing\")\n",
    "    print(my_acnt)\n",
    "    print(your_acnt)\n",
    "    res = my_acnt.transfer(your_acnt, 2000)\n",
    "    if res:\n",
    "        print('transfer succeeded')\n",
    "    else:\n",
    "        print('transfer failed')\n",
    "    print(my_acnt)\n",
    "    print(your_acnt)"
   ]
  },
  {
   "cell_type": "code",
   "execution_count": 47,
   "metadata": {},
   "outputs": [
    {
     "name": "stdout",
     "output_type": "stream",
     "text": [
      "static method\n",
      "A\n"
     ]
    }
   ],
   "source": [
    "# 클래스 메서드와 정적 메서드\n",
    "# 코드 6-19 static_method.py\n",
    "class A:\n",
    "    @staticmethod\n",
    "    def f():\n",
    "        print('static method')\n",
    "        \n",
    "    @classmethod\n",
    "    def g(cls):\n",
    "        print(cls.__name__)\n",
    "        \n",
    "        \n",
    "if __name__ == \"__main__\":\n",
    "    a = A()\n",
    "    a.f()\n",
    "    a.g()"
   ]
  },
  {
   "cell_type": "code",
   "execution_count": 48,
   "metadata": {},
   "outputs": [
    {
     "data": {
      "text/plain": [
       "function"
      ]
     },
     "execution_count": 48,
     "metadata": {},
     "output_type": "execute_result"
    }
   ],
   "source": [
    "type(A.f)"
   ]
  },
  {
   "cell_type": "code",
   "execution_count": 49,
   "metadata": {},
   "outputs": [
    {
     "data": {
      "text/plain": [
       "method"
      ]
     },
     "execution_count": 49,
     "metadata": {},
     "output_type": "execute_result"
    }
   ],
   "source": [
    "type(A.g)"
   ]
  },
  {
   "cell_type": "code",
   "execution_count": 50,
   "metadata": {},
   "outputs": [
    {
     "name": "stdout",
     "output_type": "stream",
     "text": [
      "greg\n",
      "30\n"
     ]
    }
   ],
   "source": [
    "# 클래스 메서드와 정적 메서드 \n",
    "# 코드 6-20 cls_method.py\n",
    "class Person:\n",
    "    def __init__(self, name, age):\n",
    "        self.name = name\n",
    "        self.age = age\n",
    "        \n",
    "    @classmethod\n",
    "    def init_from_string(cls, string):\n",
    "        \n",
    "        # string format: '<name>_<age>'\n",
    "        \n",
    "        name, age = string.split('_')\n",
    "        return cls(name, int(age))\n",
    "    \n",
    "if __name__ == \"__main__\":\n",
    "    p = Person.init_from_string('greg_30')\n",
    "    print(p.name)\n",
    "    print(p.age)"
   ]
  },
  {
   "cell_type": "code",
   "execution_count": 51,
   "metadata": {},
   "outputs": [],
   "source": [
    "# 클래스 메서드는 다른 클래스에서 상속받아서 사용할때 사용가능\n",
    "# 스태틱 메서스든 다른 클래스에서 상속을 받아도 원래의 클래스 값이 나오게 된다."
   ]
  },
  {
   "cell_type": "code",
   "execution_count": null,
   "metadata": {},
   "outputs": [],
   "source": []
  },
  {
   "cell_type": "code",
   "execution_count": 52,
   "metadata": {},
   "outputs": [
    {
     "name": "stdout",
     "output_type": "stream",
     "text": [
      "-3000\n"
     ]
    }
   ],
   "source": [
    "# 파이썬의 정보은닉\n",
    "# 코드 6-23 info_hiding_1.py\n",
    "class Account:\n",
    "    def __init__(self, name, money):\n",
    "        self.user = name\n",
    "        self.balance = money\n",
    "        \n",
    "    def get_balance(self):\n",
    "        return self.balance\n",
    "    \n",
    "    def set_balance(self, money):\n",
    "        if money < 0:\n",
    "            return\n",
    "        \n",
    "        self.balance = money\n",
    "        \n",
    "if __name__ == \"__main__\":\n",
    "    my_acnt = Account('greg', 5000)\n",
    "    my_acnt.balance = -3000\n",
    "    \n",
    "    print(my_acnt.get_balance())"
   ]
  },
  {
   "cell_type": "code",
   "execution_count": 53,
   "metadata": {},
   "outputs": [
    {
     "name": "stdout",
     "output_type": "stream",
     "text": [
      "5000\n"
     ]
    }
   ],
   "source": [
    "# 코드 6-24 info_hiding_2.py\n",
    "class Account:\n",
    "    def __init__(self, name, money):\n",
    "        self.user = name\n",
    "        self.__balance = money\n",
    "        \n",
    "    def get_balance(self):\n",
    "        return self.__balance\n",
    "    \n",
    "    def set_balacne(self, money):\n",
    "        if money < 0:\n",
    "            return\n",
    "        self.__balance = money\n",
    "        \n",
    "if __name__ == \"__main__\":\n",
    "    my_acnt = Account('greg', 5000)\n",
    "    my_acnt.__balance = -3000\n",
    "    \n",
    "    print(my_acnt.get_balance())"
   ]
  },
  {
   "cell_type": "code",
   "execution_count": 54,
   "metadata": {},
   "outputs": [
    {
     "data": {
      "text/plain": [
       "{'user': 'greg', '_Account__balance': 5000, '__balance': -3000}"
      ]
     },
     "execution_count": 54,
     "metadata": {},
     "output_type": "execute_result"
    }
   ],
   "source": [
    "my_acnt.__dict__"
   ]
  },
  {
   "cell_type": "code",
   "execution_count": 55,
   "metadata": {},
   "outputs": [
    {
     "name": "stdout",
     "output_type": "stream",
     "text": [
      "5000\n"
     ]
    }
   ],
   "source": [
    "# 코드 6-25 info_hiding_property.py\n",
    "class Account:\n",
    "    def __init__(self, name, money):\n",
    "        self.user = name\n",
    "        # 인스턴스 멤버 선언이 아니라 아래의 setter 메서드를 호출\n",
    "        self.balance = money\n",
    "    \n",
    "    @property\n",
    "    def balance(self):\n",
    "        return self._balance\n",
    "    \n",
    "    @balance.setter\n",
    "    def balance(self, money):\n",
    "        if money < 0:\n",
    "            return\n",
    "        \n",
    "        \n",
    "        # 실제 인스턴스 멤버 선언이 일어나는 부분\n",
    "        \n",
    "        self._balance = money\n",
    "        \n",
    "if __name__ == \"__main__\":\n",
    "    my_acnt = Account('greg', 5000)\n",
    "    my_acnt.balance = -3000\n",
    "    \n",
    "    print(my_acnt.balance)\n",
    "    \n",
    "    "
   ]
  },
  {
   "cell_type": "code",
   "execution_count": 56,
   "metadata": {},
   "outputs": [
    {
     "data": {
      "text/plain": [
       "{'user': 'greg', '_balance': 5000}"
      ]
     },
     "execution_count": 56,
     "metadata": {},
     "output_type": "execute_result"
    }
   ],
   "source": [
    "# property를 사용하더라도\n",
    "# 유저 프로그래머가 멤버로 접근하는 것을 원천적으로 막을 수가 없다.\n",
    "my_acnt.__dict__"
   ]
  },
  {
   "cell_type": "code",
   "execution_count": 57,
   "metadata": {},
   "outputs": [
    {
     "data": {
      "text/plain": [
       "-3000"
      ]
     },
     "execution_count": 57,
     "metadata": {},
     "output_type": "execute_result"
    }
   ],
   "source": [
    "my_acnt._balance = -3000\n",
    "my_acnt.balance"
   ]
  },
  {
   "cell_type": "code",
   "execution_count": 58,
   "metadata": {},
   "outputs": [],
   "source": [
    "# 객체지향으로 다시 만드는 학급성적 평가 프로그램\n",
    "# 코드 6-26 statistics.py\n",
    "import math\n",
    "\n",
    "class Stat:\n",
    "    def average(self, scores):\n",
    "        s = 0\n",
    "        for score in scores:\n",
    "            s += score\n",
    "        return round(s/len(scores), 1)\n",
    "    \n",
    "    def variance(self, scores, avrg):\n",
    "        s = 0\n",
    "        for score in scores:\n",
    "            s += (score - avrg) ** 2\n",
    "        return round(s/len(scores), 1)\n",
    "    \n",
    "    def std_dev(self, variance):\n",
    "        return round(math.sqrt(variance), 1)"
   ]
  },
  {
   "cell_type": "code",
   "execution_count": 67,
   "metadata": {},
   "outputs": [],
   "source": [
    "# 코드 6-27 datahandler.py\n",
    "# from statistics import *\n",
    "import openpyxl\n",
    "\n",
    "class DataHandler:\n",
    "    evaluator = Stat()\n",
    "    \n",
    "    @classmethod\n",
    "    def get_data_from_excel(clls, filename):\n",
    "        dic = {}\n",
    "        wb = openpyxl.load_workbook(filename)\n",
    "        ws = wb.active\n",
    "        g = ws.rows\n",
    "        \n",
    "        for name, score in g:\n",
    "            dic[name.value] = score.value\n",
    "            \n",
    "        return dic\n",
    "    \n",
    "    def __init__(self, filename, year_class):\n",
    "        self.rawdata = DataHandler.get_data_from_excel(filename)\n",
    "        self.year_class = year_class\n",
    "        # 연산한 값을 저장해 두는 저장소\n",
    "        # 필요할 때 연산하되\n",
    "        # 이미 연산된 값이면 연산 없이 저장된 값을 반환\n",
    "        self.cache = {}\n",
    "        \n",
    "# 코드 6-28 datahandler.py\n",
    "    def get_scores(self):\n",
    "        if 'scores' not in self.cache:\n",
    "            self.cache['scores'] = list(self.rawdata.values())\n",
    "            \n",
    "        return self.cache.get('scores')\n",
    "    \n",
    "    def get_average(self):\n",
    "        if 'average' not in self.cache:\n",
    "            self.cache['average'] = self.evaluator.average(\n",
    "            self.get_scores())\n",
    "            \n",
    "        return self.cache.get('average')\n",
    "    \n",
    "    def get_variance(self):\n",
    "        if \"variance\" not in self.cache:\n",
    "            self.cache[\"variance\"] = self.evaluator.variance(\n",
    "            self.get_scores(), self.get_average())\n",
    "            \n",
    "        return self.cache.get(\"variance\")\n",
    "    \n",
    "    def get_standard_deviation(self):\n",
    "        if \"standard_deviation\" not in self.cache:\n",
    "            self.cache[\"standard_deviation\"] = self.evaluator.std_dev(\n",
    "                self.get_variance())\n",
    "            \n",
    "        return self.cache.get(\"standard_deviation\")\n",
    "    \n",
    "# 코드 6-29 datahandler.py\n",
    "    def evaluate_class(self, total_avrg, sd):\n",
    "        avrg = self.get_average()\n",
    "        std_dev = self.get_standard_deviation()\n",
    "        \n",
    "        if avrg < total_avrg and std_dev > sd:\n",
    "            print(\"성적이 너무 저조하고 학생들의 실력 차이가 너무 크다.\")\n",
    "        elif avrg > total_avrg and std_dev > sd:\n",
    "            print(\"성적은 평균 이상이지만 학생들의 실력 차이가 크다. 주의 요망!\")\n",
    "        elif avrg < total_avrg and std_dev < sd:\n",
    "            print(\"학생의 실력 차이는 크지 않지만 성적이 너무 저조하다. 주의 요망!\")\n",
    "        elif avrg > total_avrg and std_dev < sd:\n",
    "            print(\"성적도 평균 이상이고 학생들의 실력 차이도 크지 않다.\")\n",
    "            \n",
    "    def get_evaluation(self, total_avrg, sd = 20):\n",
    "        print('*' * 50)\n",
    "        print('{} 반 성적 분석 결과'. format(self.year_class))\n",
    "        print(\n",
    "        \"{0}반의 평균은 {1}점이고 분산은 {2}이며 따라서 표준편차는 {3}이다\".format(\n",
    "            self.year_class,\n",
    "            self.get_average(),\n",
    "            self.get_variance(),\n",
    "            self.get_standard_deviation()))\n",
    "        print('*' * 50)\n",
    "        print('{} 반 종합 평가'.format(self.year_class))\n",
    "        print('*' * 50)\n",
    "        self.evaluate_class(total_avrg, sd)\n",
    "    \n",
    "        \n",
    "        "
   ]
  },
  {
   "cell_type": "code",
   "execution_count": 68,
   "metadata": {},
   "outputs": [
    {
     "name": "stdout",
     "output_type": "stream",
     "text": [
      "**************************************************\n",
      "2-3 반 성적 분석 결과\n",
      "2-3반의 평균은 51.5점이고 분산은 1240.2이며 따라서 표준편차는 35.2이다\n",
      "**************************************************\n",
      "2-3 반 종합 평가\n",
      "**************************************************\n",
      "성적은 평균 이상이지만 학생들의 실력 차이가 크다. 주의 요망!\n"
     ]
    }
   ],
   "source": [
    "# 코드 6-30 main.py\n",
    "# from datahandler import *\n",
    "\n",
    "# 전체 학년 평균: 50점\n",
    "dh = DataHandler('class_2_3.xlsx', '2-3')\n",
    "dh.get_evaluation(50)"
   ]
  },
  {
   "cell_type": "code",
   "execution_count": null,
   "metadata": {},
   "outputs": [],
   "source": []
  }
 ],
 "metadata": {
  "kernelspec": {
   "display_name": "Python 3",
   "language": "python",
   "name": "python3"
  },
  "language_info": {
   "codemirror_mode": {
    "name": "ipython",
    "version": 3
   },
   "file_extension": ".py",
   "mimetype": "text/x-python",
   "name": "python",
   "nbconvert_exporter": "python",
   "pygments_lexer": "ipython3",
   "version": "3.6.5"
  }
 },
 "nbformat": 4,
 "nbformat_minor": 2
}
