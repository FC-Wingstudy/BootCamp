{
 "cells": [
  {
   "cell_type": "code",
   "execution_count": 1,
   "metadata": {},
   "outputs": [
    {
     "data": {
      "text/plain": [
       "['시트1']"
      ]
     },
     "execution_count": 1,
     "metadata": {},
     "output_type": "execute_result"
    }
   ],
   "source": [
    "from openpyxl import *\n",
    "wb = load_workbook('exam.xlsx')\n",
    "wb.sheetnames"
   ]
  },
  {
   "cell_type": "code",
   "execution_count": 4,
   "metadata": {},
   "outputs": [
    {
     "data": {
      "text/plain": [
       "<Worksheet \"시트1\">"
      ]
     },
     "execution_count": 4,
     "metadata": {},
     "output_type": "execute_result"
    }
   ],
   "source": [
    "ws = wb.active\n",
    "ws"
   ]
  },
  {
   "cell_type": "code",
   "execution_count": 12,
   "metadata": {},
   "outputs": [
    {
     "data": {
      "text/plain": [
       "(<Cell '시트1'.A1>, <Cell '시트1'.B1>, <Cell '시트1'.C1>, <Cell '시트1'.D1>)"
      ]
     },
     "execution_count": 12,
     "metadata": {},
     "output_type": "execute_result"
    }
   ],
   "source": [
    "g = ws.rows\n",
    "cells = next(g)\n",
    "cells"
   ]
  },
  {
   "cell_type": "code",
   "execution_count": 13,
   "metadata": {},
   "outputs": [
    {
     "data": {
      "text/plain": [
       "['name', 'math', 'literature', 'science']"
      ]
     },
     "execution_count": 13,
     "metadata": {},
     "output_type": "execute_result"
    }
   ],
   "source": [
    "keys = []\n",
    "for cell in cells:\n",
    "    keys.append(cell.value)\n",
    "keys"
   ]
  },
  {
   "cell_type": "code",
   "execution_count": 15,
   "metadata": {},
   "outputs": [
    {
     "data": {
      "text/plain": [
       "[{'name': 'john', 'math': 25, 'literature': 30, 'science': 55},\n",
       " {'name': 'yang', 'math': 50, 'literature': 45, 'science': 40},\n",
       " {'name': 'timothy', 'math': 15, 'literature': 65, 'science': 90},\n",
       " {'name': 'melisa', 'math': 100, 'literature': 100, 'science': 100},\n",
       " {'name': 'thor', 'math': 10, 'literature': 15, 'science': 20},\n",
       " {'name': 'elen', 'math': 25, 'literature': 50, 'science': 100},\n",
       " {'name': 'mark', 'math': 80, 'literature': 75, 'science': 80},\n",
       " {'name': 'steve', 'math': 95, 'literature': 100, 'science': 95},\n",
       " {'name': 'anna', 'math': 20, 'literature': 20, 'science': 20}]"
      ]
     },
     "execution_count": 15,
     "metadata": {},
     "output_type": "execute_result"
    }
   ],
   "source": [
    "student_data = []\n",
    "for row in g:\n",
    "    dic = {k : c.value for k, c in zip(keys, row)}\n",
    "    student_data.append(dic)\n",
    "student_data"
   ]
  },
  {
   "cell_type": "code",
   "execution_count": 17,
   "metadata": {},
   "outputs": [
    {
     "data": {
      "text/plain": [
       "{'a': 97, 'b': 98, 'c': 99, 'd': 100}"
      ]
     },
     "execution_count": 17,
     "metadata": {},
     "output_type": "execute_result"
    }
   ],
   "source": [
    "# 딕셔너리 컴프리헨션\n",
    "tu_li = [('a', 97), ('b', 98), ('c', 99), ('d', 100)]\n",
    "dic = {k : v for k, v in tu_li}\n",
    "dic"
   ]
  },
  {
   "cell_type": "code",
   "execution_count": 24,
   "metadata": {},
   "outputs": [
    {
     "name": "stdout",
     "output_type": "stream",
     "text": [
      "평균: 51.5, 분산:1240.2, 표준편차: 35.2\n",
      "성적은 평균 이상이지만 학생들이 실력 차이가 크다. 주의 요망!\n"
     ]
    }
   ],
   "source": [
    "# 코드 6-1\n",
    "\n",
    "import openpyxl\n",
    "import math\n",
    "\n",
    "raw_data = {}\n",
    "wb = openpyxl.load_workbook('class_2_3.xlsx')\n",
    "ws = wb.active\n",
    "g = ws.rows\n",
    "\n",
    "for name, score in g:\n",
    "    raw_data[name.value] = score.value\n",
    "\n",
    "scores = list(raw_data.values())\n",
    "\n",
    "s = 0\n",
    "\n",
    "for score in scores:\n",
    "    s += score\n",
    "\n",
    "avrg = round(s/len(scores), 1)\n",
    "\n",
    "s = 0\n",
    "\n",
    "for score in scores:\n",
    "    s += (score - avrg) ** 2\n",
    "    \n",
    "variance = round(s/len(scores), 1)\n",
    "\n",
    "std_dev = round(math.sqrt(variance), 1)\n",
    "\n",
    "print(\"평균: {0}, 분산:{1}, 표준편차: {2}\".format(avrg, variance, std_dev))\n",
    "\n",
    "if avrg < 50 and std_dev > 20:\n",
    "    print(\"성적이 너무 저조하고 학생들의 실력 차이가 너무 크다.\")\n",
    "elif avrg > 50 and std_dev > 20:\n",
    "    print(\"성적은 평균 이상이지만 학생들이 실력 차이가 크다. 주의 요망!\")\n",
    "elif avrg < 50 and std_dev < 20:\n",
    "    print(\"학생들의 실력 차이는 크지 않지만 성적이 너무 저조하다. 주의 요망!\")\n",
    "elif avrg > 50 and std_dev < 20:\n",
    "    print(\"성적도 평균 이상이고 학생들의 실력 차이도 크지 않다.\")"
   ]
  },
  {
   "cell_type": "code",
   "execution_count": 25,
   "metadata": {},
   "outputs": [],
   "source": [
    "# 코드 6-2\n",
    "\n",
    "raw_data = {}\n",
    "wb = openpyxl.load_workbook('class_2_3.xlsx')\n",
    "ws = wb.active\n",
    "g = ws.rows\n",
    "\n",
    "for name, score in g:\n",
    "    raw_data[name.value] = score.value"
   ]
  },
  {
   "cell_type": "code",
   "execution_count": 26,
   "metadata": {},
   "outputs": [],
   "source": [
    "# 코드 6-3 functions.py\n",
    "\n",
    "import openpyxl\n",
    "import math\n",
    "\n",
    "def get_data_from_excel(filename):\n",
    "    # get_data_exclel(filname) - > {'name1':'score1', 'name2':'score2', ....}\n",
    "    # 엑셀 파일에서 데이터를 가져옵니다.\n",
    "    # 반환값은 key가 학생 이름이고 value가 점수인 딕셔너리입니다.\n",
    "    dic = {}\n",
    "    wb = openpyxl.load_workbook(filename)\n",
    "    ws = wb.active\n",
    "    g = ws.rows\n",
    "    \n",
    "    for name, score in g:\n",
    "        dic[name.value] = score.value\n",
    "        \n",
    "    return dic\n",
    "    \n",
    "    \n",
    "    \n",
    "    "
   ]
  },
  {
   "cell_type": "code",
   "execution_count": 28,
   "metadata": {},
   "outputs": [],
   "source": [
    "# 코드 6-4 (코드 6-1에서 평균, 분산, 표준편차를 구하는 부분) functions.py\n",
    "\n",
    "s = 0\n",
    "\n",
    "for score in scores:\n",
    "    s += score\n",
    "\n",
    "avrg = round(s/len(scores), 1)\n",
    "\n",
    "s = 0\n",
    "\n",
    "for score in scores:\n",
    "    s += (score - avrg) ** 2\n",
    "    \n",
    "variance = round(s/len(scores), 1)\n",
    "\n",
    "std_dev = round(math.sqrt(variance), 1)"
   ]
  },
  {
   "cell_type": "code",
   "execution_count": 29,
   "metadata": {},
   "outputs": [],
   "source": [
    "# 코드 6-5 functions.py 함수로 바꾼 코드\n",
    "\n",
    "def average(scores):\n",
    "    s = 0\n",
    "    for score in scores:\n",
    "        s += score\n",
    "    return round(s/len(scores), 1)\n",
    "\n",
    "def variance(scores, avrg):\n",
    "    s = 0\n",
    "    for score in scores:\n",
    "        s += (score - avrg) ** 2\n",
    "    return round(s/len(scores), 1)\n",
    "\n",
    "def std_dev(variance):\n",
    "    return round(math.sqrt(variance), 1)"
   ]
  },
  {
   "cell_type": "code",
   "execution_count": 30,
   "metadata": {},
   "outputs": [],
   "source": [
    "# 코드 6-6 functions.py\n",
    "# (evaluateClass()함수는 반 평균, 학년 전체 평균, 반의 표준편차,\n",
    "#  비교하고자 하는 표준편차를 인자로 전달하면 이에 맞는 평가를 출력합니다.)\n",
    "\n",
    "def evaluateclass(avrg, total_avrg, std_dev, sd):\n",
    "    # evaluateclass(avrg, total_avrg, std_dev, sd) -> None\n",
    "    # avrg:반 성적 평균\n",
    "    # total_avrg: 학년 전체 성적 평균\n",
    "    # std_dev: 반의 표준편차\n",
    "    # sd: 원하는 표준편차 기준\n",
    "    if avrg < total_avrg and std_dev > sd:\n",
    "        print(\"성적이 너무 저조하고 학생들의 실력 차이가 너무 크다.\")\n",
    "    elif avrg > total_avrg and std_dev > sd:\n",
    "        print(\"성적은 평균 이상이지만 학생들의 실력 차이가 크다. 주의 요망!\")\n",
    "    elif avrg > total_avrg and std_dev < sd:\n",
    "        print(\"학생들의 실력 차이는 크지 않지만 성적이 너무 저조하다. 주의 요망!\")\n",
    "    elif avrg > total_avrg and std_dev < sd:\n",
    "        print(\"성적도 평균 이상이고 학생들의 실력 차이도 크지 않다.\")\n",
    "        "
   ]
  },
  {
   "cell_type": "code",
   "execution_count": 33,
   "metadata": {},
   "outputs": [
    {
     "name": "stdout",
     "output_type": "stream",
     "text": [
      "평균: 51.5, 분산: 1240.2, 표준편차: 35.2\n",
      "성적은 평균 이상이지만 학생들의 실력 차이가 크다. 주의 요망!\n"
     ]
    }
   ],
   "source": [
    "# 코드 6-7 main.py\n",
    "# from functions import *\n",
    "\n",
    "# 학년 전체 학생의 평균 : 50점\n",
    "\n",
    "if __name__ == \"__main__\":\n",
    "    raw_data = get_data_from_excel('class_2_3.xlsx')\n",
    "    scores = list(raw_data.values())\n",
    "    \n",
    "    avrg = average(scores)\n",
    "    variance = variance(scores, avrg)\n",
    "    standard_deviation = std_dev(variance)\n",
    "    \n",
    "    print(\"평균: {0}, 분산: {1}, 표준편차: {2}\".format(avrg, variance, standard_deviation))\n",
    "    evaluateclass(avrg, 50, standard_deviation, 20)"
   ]
  },
  {
   "cell_type": "code",
   "execution_count": 34,
   "metadata": {},
   "outputs": [],
   "source": [
    "# 객체지향\n",
    "# 코드 6-8 pseudo_class.py\n",
    "\n",
    "# 인스턴스 멤버 초기화\n",
    "def person_init(name, money):\n",
    "    obj = {'name': name, 'money' : money}\n",
    "    obj['give_money'] = Person[1]\n",
    "    obj['get_money'] = Person[2]\n",
    "    obj['show'] = Person[3]\n",
    "    return obj"
   ]
  },
  {
   "cell_type": "code",
   "execution_count": 35,
   "metadata": {},
   "outputs": [],
   "source": [
    "# 코드 6-9 pseudo_class.py\n",
    "def give_money(self, other, money):\n",
    "    self['money'] -= money\n",
    "    other['get_money'](other, money)\n",
    "\n",
    "def get_money(self, money):\n",
    "    self['money'] += money\n",
    "    \n",
    "def show(self):\n",
    "    print('{} : {}'.format(self['name'], self['money']))"
   ]
  },
  {
   "cell_type": "code",
   "execution_count": 36,
   "metadata": {},
   "outputs": [],
   "source": [
    "# 코드 6-10 pseudo_class.py\n",
    "Person = person_init, give_money, get_money, show"
   ]
  },
  {
   "cell_type": "code",
   "execution_count": 38,
   "metadata": {},
   "outputs": [
    {
     "name": "stdout",
     "output_type": "stream",
     "text": [
      "greg : 5000\n",
      "john : 2000\n",
      "\n",
      "greg : 3000\n",
      "john : 4000\n"
     ]
    }
   ],
   "source": [
    "# 코드 6-11 pseudo_class.py\n",
    "if __name__ == \"__main__\":\n",
    "    \n",
    "    # 객체 생성\n",
    "    \n",
    "    g = Person[0]('greg', 5000)\n",
    "    j = Person[0]('john', 2000)\n",
    "    \n",
    "    g['show'](g)\n",
    "    j['show'](j)\n",
    "    print('')\n",
    "    \n",
    "    # 메시지 패싱\n",
    "    \n",
    "    g['give_money'](g, j, 2000)\n",
    "    \n",
    "    g['show'](g)\n",
    "    j['show'](j)"
   ]
  },
  {
   "cell_type": "code",
   "execution_count": 10,
   "metadata": {},
   "outputs": [],
   "source": [
    "# 코드 6-12 class_person.py\n",
    "class Person:\n",
    "    def __init__(self, name, money):\n",
    "        self.name = name\n",
    "        self.money = money\n",
    "        \n",
    "    def give_money(self, other, money):\n",
    "        self.money -= money\n",
    "        other.get_money(money)\n",
    "    \n",
    "    def get_money(self, money):\n",
    "        self.money += money\n",
    "        \n",
    "    def show(self):\n",
    "        print('{} : {}'.format(self.name, self.money))"
   ]
  },
  {
   "cell_type": "code",
   "execution_count": 14,
   "metadata": {},
   "outputs": [
    {
     "name": "stdout",
     "output_type": "stream",
     "text": [
      "greg : 5000\n",
      "john : 2000\n",
      "\n",
      "greg : 3000\n",
      "john : 4000\n"
     ]
    }
   ],
   "source": [
    "# 코드 6-13 class_Person.py\n",
    "if __name__ == \"__main__\":\n",
    "    g = Person('greg', 5000)\n",
    "    j = Person('john', 2000)\n",
    "    \n",
    "    g.show()\n",
    "    j.show()\n",
    "    \n",
    "    g.give_money(j, 2000)\n",
    "    print('')\n",
    "    \n",
    "    g.show()\n",
    "    j.show()"
   ]
  },
  {
   "cell_type": "code",
   "execution_count": 21,
   "metadata": {},
   "outputs": [
    {
     "data": {
      "text/plain": [
       "function"
      ]
     },
     "execution_count": 21,
     "metadata": {},
     "output_type": "execute_result"
    }
   ],
   "source": [
    "# 파이썬의 클래스\n",
    "type(Person.__init__)\n"
   ]
  },
  {
   "cell_type": "code",
   "execution_count": 22,
   "metadata": {},
   "outputs": [
    {
     "data": {
      "text/plain": [
       "function"
      ]
     },
     "execution_count": 22,
     "metadata": {},
     "output_type": "execute_result"
    }
   ],
   "source": [
    "# 파이썬의 클래스\n",
    "type(Person.give_money)"
   ]
  },
  {
   "cell_type": "code",
   "execution_count": 23,
   "metadata": {},
   "outputs": [
    {
     "data": {
      "text/plain": [
       "function"
      ]
     },
     "execution_count": 23,
     "metadata": {},
     "output_type": "execute_result"
    }
   ],
   "source": [
    "# 파이썬의 클래스\n",
    "type(Person.get_money)"
   ]
  },
  {
   "cell_type": "code",
   "execution_count": 24,
   "metadata": {},
   "outputs": [
    {
     "data": {
      "text/plain": [
       "function"
      ]
     },
     "execution_count": 24,
     "metadata": {},
     "output_type": "execute_result"
    }
   ],
   "source": [
    "# 파이썬의 클래스\n",
    "type(Person.show)"
   ]
  },
  {
   "cell_type": "code",
   "execution_count": 25,
   "metadata": {},
   "outputs": [
    {
     "data": {
      "text/plain": [
       "method"
      ]
     },
     "execution_count": 25,
     "metadata": {},
     "output_type": "execute_result"
    }
   ],
   "source": [
    "type(g.give_money)"
   ]
  },
  {
   "cell_type": "code",
   "execution_count": 26,
   "metadata": {},
   "outputs": [
    {
     "data": {
      "text/plain": [
       "method"
      ]
     },
     "execution_count": 26,
     "metadata": {},
     "output_type": "execute_result"
    }
   ],
   "source": [
    "type(g.get_money)"
   ]
  },
  {
   "cell_type": "code",
   "execution_count": 27,
   "metadata": {},
   "outputs": [
    {
     "data": {
      "text/plain": [
       "method"
      ]
     },
     "execution_count": 27,
     "metadata": {},
     "output_type": "execute_result"
    }
   ],
   "source": [
    "type(g.show)"
   ]
  },
  {
   "cell_type": "code",
   "execution_count": 30,
   "metadata": {},
   "outputs": [],
   "source": [
    "# 코드 6-14 cls_mem_met.py\n",
    "class A:\n",
    "    c_mem = 10\n",
    "    \n",
    "    @classmethod\n",
    "    def cls_f(cls):\n",
    "        print(cls.c_mem)\n",
    "        \n",
    "    def __init__(self, num):\n",
    "        self.i_mem = num\n",
    "        \n",
    "    def ins_f(self):\n",
    "        print(self.i_mem)"
   ]
  },
  {
   "cell_type": "code",
   "execution_count": 31,
   "metadata": {},
   "outputs": [
    {
     "name": "stdout",
     "output_type": "stream",
     "text": [
      "10\n",
      "10\n"
     ]
    }
   ],
   "source": [
    "# 코드 6-15 cls_mem_met.py\n",
    "if __name__ == \"__main__\":\n",
    "    print(A.c_mem)\n",
    "    A.cls_f()"
   ]
  },
  {
   "cell_type": "code",
   "execution_count": 32,
   "metadata": {},
   "outputs": [
    {
     "name": "stdout",
     "output_type": "stream",
     "text": [
      "10\n",
      "10\n",
      "10\n",
      "10\n"
     ]
    }
   ],
   "source": [
    "# 코드 6-16 cls.mem_met.py\n",
    "if __name__ == \"__main__\":\n",
    "    print(A.c_mem)\n",
    "    A.cls_f()\n",
    "    \n",
    "    a = A(20)\n",
    "    print(a.c_mem)\n",
    "    a.cls_f()"
   ]
  },
  {
   "cell_type": "code",
   "execution_count": 36,
   "metadata": {},
   "outputs": [],
   "source": [
    "# 코드 6-17 account.py\n",
    "class Account:\n",
    "    num_acnt = 0\n",
    "    \n",
    "    @classmethod\n",
    "    def get_num_acnt(cls):\n",
    "        \n",
    "        # cls.get_num_acnt() -> integer\n",
    "        return cls.num_acnt\n",
    "    \n",
    "    def __init__(self, name, money):\n",
    "        self.user = name\n",
    "        self.balance = money\n",
    "        Account.num_acnt += 1\n",
    "        \n",
    "    def deposit(self, money):\n",
    "        if money < 0:\n",
    "            return\n",
    "        self.balance += money\n",
    "        \n",
    "    def withdraw(self, money):\n",
    "        if money > 0 and money <= self.balance:\n",
    "            self.balance -= money\n",
    "            return money\n",
    "        else:\n",
    "            return None\n",
    "        \n",
    "    def transfer(self, other, money):\n",
    "        # obj.transfer(other, money) -> bool\n",
    "        # other: The object to interact with\n",
    "        # money: money the user wants to send\n",
    "        \n",
    "        # returns True if the balance is enough to transfer\n",
    "        # returns False if not\n",
    "        \n",
    "        mon = self.withdraw(money)\n",
    "        if mon:\n",
    "            other.deposit(mon)\n",
    "            return True\n",
    "        else:\n",
    "            return False\n",
    "        \n",
    "    def __str__(self):\n",
    "        return 'user : {}, balance : {}'.format(self.user, self.balance)"
   ]
  },
  {
   "cell_type": "code",
   "execution_count": 39,
   "metadata": {},
   "outputs": [
    {
     "name": "stdout",
     "output_type": "stream",
     "text": [
      "object created\n",
      "user : greg, balance : 5000\n",
      "user : john, balance : 1000\n",
      "\n",
      "deposit\n",
      "user : greg, balance : 5500\n",
      "\n",
      "withdraw\n",
      "withdraw money : 1500\n",
      "\n",
      "class member\n",
      "5\n",
      "\n",
      "class method\n",
      "The number of account : 5\n",
      "\n",
      "message passing\n",
      "user : greg, balance : 4000\n",
      "user : john, balance : 1000\n",
      "transfer succeeded\n",
      "user : greg, balance : 2000\n",
      "user : john, balance : 3000\n"
     ]
    }
   ],
   "source": [
    "# 코드 6-18 account.py\n",
    "if __name__ == \"__main__\":\n",
    "    # 객체 생성\n",
    "    my_acnt = Account('greg', 5000)\n",
    "    your_acnt = Account('john', 1000)\n",
    "    \n",
    "    # 생성 확인\n",
    "    print('object created')\n",
    "    print(my_acnt)\n",
    "    print(your_acnt)\n",
    "    print()\n",
    "    \n",
    "    # 인스턴스 메서드를 호출하는 방법\n",
    "    # 1. by object\n",
    "    my_acnt.deposit(500)\n",
    "    # 2. by class\n",
    "    # Account.deposit(my_acnt, 500)\n",
    "    \n",
    "    # deposit 확인\n",
    "    print('deposit')\n",
    "    print(my_acnt)\n",
    "    print()\n",
    "    \n",
    "    # withdraw 함수 사용법\n",
    "    print('withdraw')\n",
    "    money = my_acnt.withdraw(1500)\n",
    "    if money:\n",
    "        print('withdraw money : {}'.format(money))\n",
    "    else:\n",
    "        print('Not enough to withdraw')\n",
    "    print()\n",
    "    \n",
    "    # 클래스 멤버에 접근하는 방법\n",
    "    print('class member')\n",
    "    \n",
    "    # 1.by class\n",
    "    print(Account.num_acnt)\n",
    "    \n",
    "    # 2.by object\n",
    "    # print(my_acnt.num_acnt)\n",
    "    print()\n",
    "    \n",
    "    # 클래스 메서드를 호출하는 방법\n",
    "    print('class method')\n",
    "    \n",
    "    # 1.by class\n",
    "    n_acnt = Account.get_num_acnt()\n",
    "    \n",
    "    # 2.by object\n",
    "    # n_acnt = my_acnt.get_num_acnt()\n",
    "    \n",
    "    print('The number of account : {}'.format(n_acnt))\n",
    "    print()\n",
    "    \n",
    "    \n",
    "    # 메시지 패싱\n",
    "    print(\"message passing\")\n",
    "    print(my_acnt)\n",
    "    print(your_acnt)\n",
    "    res = my_acnt.transfer(your_acnt, 2000)\n",
    "    if res:\n",
    "        print('transfer succeeded')\n",
    "    else:\n",
    "        print('transfer failed')\n",
    "    print(my_acnt)\n",
    "    print(your_acnt)"
   ]
  },
  {
   "cell_type": "code",
   "execution_count": 40,
   "metadata": {},
   "outputs": [
    {
     "name": "stdout",
     "output_type": "stream",
     "text": [
      "static method\n",
      "A\n"
     ]
    }
   ],
   "source": [
    "# 클래스 메서드와 정적 메서드\n",
    "# 코드 6-19 static_method.py\n",
    "class A:\n",
    "    @staticmethod\n",
    "    def f():\n",
    "        print('static method')\n",
    "        \n",
    "    @classmethod\n",
    "    def g(cls):\n",
    "        print(cls.__name__)\n",
    "        \n",
    "        \n",
    "if __name__ == \"__main__\":\n",
    "    a = A()\n",
    "    a.f()\n",
    "    a.g()"
   ]
  },
  {
   "cell_type": "code",
   "execution_count": 41,
   "metadata": {},
   "outputs": [
    {
     "data": {
      "text/plain": [
       "function"
      ]
     },
     "execution_count": 41,
     "metadata": {},
     "output_type": "execute_result"
    }
   ],
   "source": [
    "type(A.f)"
   ]
  },
  {
   "cell_type": "code",
   "execution_count": 42,
   "metadata": {},
   "outputs": [
    {
     "data": {
      "text/plain": [
       "method"
      ]
     },
     "execution_count": 42,
     "metadata": {},
     "output_type": "execute_result"
    }
   ],
   "source": [
    "type(A.g)"
   ]
  },
  {
   "cell_type": "code",
   "execution_count": 43,
   "metadata": {},
   "outputs": [
    {
     "name": "stdout",
     "output_type": "stream",
     "text": [
      "greg\n",
      "30\n"
     ]
    }
   ],
   "source": [
    "# 클래스 메서드와 정적 메서드 \n",
    "# 코드 6-20 cls_method.py\n",
    "class Person:\n",
    "    def __init__(self, name, age):\n",
    "        self.name = name\n",
    "        self.age = age\n",
    "        \n",
    "    @classmethod\n",
    "    def init_from_string(cls, string):\n",
    "        \n",
    "        # string format: '<name>_<age>'\n",
    "        \n",
    "        name, age = string.split('_')\n",
    "        return cls(name, int(age))\n",
    "    \n",
    "if __name__ == \"__main__\":\n",
    "    p = Person.init_from_string('greg_30')\n",
    "    print(p.name)\n",
    "    print(p.age)"
   ]
  },
  {
   "cell_type": "code",
   "execution_count": 44,
   "metadata": {},
   "outputs": [],
   "source": [
    "# 클래스 메서드는 다른 클래스에서 상속받아서 사용할때 사용가능\n",
    "# 스태틱 메서스든 다른 클래스에서 상속을 받아도 원래의 클래스 값이 나오게 된다."
   ]
  },
  {
   "cell_type": "code",
   "execution_count": null,
   "metadata": {},
   "outputs": [],
   "source": []
  },
  {
   "cell_type": "code",
   "execution_count": 45,
   "metadata": {},
   "outputs": [
    {
     "name": "stdout",
     "output_type": "stream",
     "text": [
      "-3000\n"
     ]
    }
   ],
   "source": [
    "# 파이썬의 정보은닉\n",
    "# 코드 6-23 info_hiding_1.py\n",
    "class Account:\n",
    "    def __init__(self, name, money):\n",
    "        self.user = name\n",
    "        self.balance = money\n",
    "        \n",
    "    def get_balance(self):\n",
    "        return self.balance\n",
    "    \n",
    "    def set_balance(self, money):\n",
    "        if money < 0:\n",
    "            return\n",
    "        \n",
    "        self.balance = money\n",
    "        \n",
    "if __name__ == \"__main__\":\n",
    "    my_acnt = Account('greg', 5000)\n",
    "    my_acnt.balance = -3000\n",
    "    \n",
    "    print(my_acnt.get_balance())"
   ]
  },
  {
   "cell_type": "code",
   "execution_count": 47,
   "metadata": {},
   "outputs": [
    {
     "name": "stdout",
     "output_type": "stream",
     "text": [
      "5000\n"
     ]
    }
   ],
   "source": [
    "# 코드 6-24 info_hiding_2.py\n",
    "class Account:\n",
    "    def __init__(self, name, money):\n",
    "        self.user = name\n",
    "        self.__balance = money\n",
    "        \n",
    "    def get_balance(self):\n",
    "        return self.__balance\n",
    "    \n",
    "    def set_balacne(self, money):\n",
    "        if money < 0:\n",
    "            return\n",
    "        self.__balance = money\n",
    "        \n",
    "if __name__ == \"__main__\":\n",
    "    my_acnt = Account('greg', 5000)\n",
    "    my_acnt.__balance = -3000\n",
    "    \n",
    "    print(my_acnt.get_balance())"
   ]
  },
  {
   "cell_type": "code",
   "execution_count": 48,
   "metadata": {},
   "outputs": [
    {
     "data": {
      "text/plain": [
       "{'user': 'greg', '_Account__balance': 5000, '__balance': -3000}"
      ]
     },
     "execution_count": 48,
     "metadata": {},
     "output_type": "execute_result"
    }
   ],
   "source": [
    "my_acnt.__dict__"
   ]
  },
  {
   "cell_type": "code",
   "execution_count": null,
   "metadata": {},
   "outputs": [],
   "source": []
  }
 ],
 "metadata": {
  "kernelspec": {
   "display_name": "Python 3",
   "language": "python",
   "name": "python3"
  },
  "language_info": {
   "codemirror_mode": {
    "name": "ipython",
    "version": 3
   },
   "file_extension": ".py",
   "mimetype": "text/x-python",
   "name": "python",
   "nbconvert_exporter": "python",
   "pygments_lexer": "ipython3",
   "version": "3.6.5"
  }
 },
 "nbformat": 4,
 "nbformat_minor": 2
}
