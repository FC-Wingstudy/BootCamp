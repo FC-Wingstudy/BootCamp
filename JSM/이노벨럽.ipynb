{
 "cells": [
  {
   "cell_type": "code",
   "execution_count": 1,
   "metadata": {},
   "outputs": [],
   "source": [
    "ex_list = [1,5,1,2,7,4,4,5,6,2,1,5,9,6,4,5,6,6,4,6,6,3,4,5,4]"
   ]
  },
  {
   "cell_type": "code",
   "execution_count": 2,
   "metadata": {},
   "outputs": [],
   "source": [
    "one = []\n",
    "two = []\n",
    "three = []\n",
    "four = []\n",
    "five = []\n",
    "other = []"
   ]
  },
  {
   "cell_type": "code",
   "execution_count": 3,
   "metadata": {},
   "outputs": [
    {
     "name": "stdout",
     "output_type": "stream",
     "text": [
      "one:3\n",
      "two:2\n",
      "three:1\n",
      "four:6\n",
      "five:5\n",
      "other:[7, 6, 9]\n"
     ]
    }
   ],
   "source": [
    "for i in ex_list:\n",
    "    if i == 1:\n",
    "        one.append(i)\n",
    "    elif i == 2:\n",
    "        two.append(i)\n",
    "    elif i == 3:\n",
    "        three.append(i)\n",
    "    elif i == 4:\n",
    "        four.append(i)\n",
    "    elif i == 5:\n",
    "        five.append(i)\n",
    "    else:\n",
    "        if i > 5 and i not in other:\n",
    "            other.append(i)\n",
    "print(\"one:{}\".format(len(one)))\n",
    "print(\"two:{}\".format(len(two)))\n",
    "print(\"three:{}\".format(len(three)))\n",
    "print(\"four:{}\".format(len(four)))\n",
    "print(\"five:{}\".format(len(five)))\n",
    "print(\"other:{}\".format(other))"
   ]
  },
  {
   "cell_type": "code",
   "execution_count": 8,
   "metadata": {},
   "outputs": [
    {
     "name": "stdout",
     "output_type": "stream",
     "text": [
      "0\n",
      "<class 'int'>\n",
      "1\n",
      "<class 'int'>\n",
      "2\n",
      "<class 'int'>\n",
      "3\n",
      "<class 'int'>\n",
      "4\n",
      "<class 'int'>\n",
      "5\n",
      "<class 'int'>\n"
     ]
    }
   ],
   "source": [
    "for i in range(6):\n",
    "    print(i)\n",
    "    print(type(i))"
   ]
  },
  {
   "cell_type": "code",
   "execution_count": null,
   "metadata": {},
   "outputs": [],
   "source": []
  }
 ],
 "metadata": {
  "kernelspec": {
   "display_name": "Python 3",
   "language": "python",
   "name": "python3"
  },
  "language_info": {
   "codemirror_mode": {
    "name": "ipython",
    "version": 3
   },
   "file_extension": ".py",
   "mimetype": "text/x-python",
   "name": "python",
   "nbconvert_exporter": "python",
   "pygments_lexer": "ipython3",
   "version": "3.6.5"
  }
 },
 "nbformat": 4,
 "nbformat_minor": 2
}
