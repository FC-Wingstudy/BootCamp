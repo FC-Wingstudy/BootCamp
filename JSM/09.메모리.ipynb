{
 "cells": [
  {
   "cell_type": "code",
   "execution_count": 4,
   "metadata": {},
   "outputs": [
    {
     "data": {
      "text/plain": [
       "16909060"
      ]
     },
     "execution_count": 4,
     "metadata": {},
     "output_type": "execute_result"
    }
   ],
   "source": [
    "a = 0x01020304\n",
    "a"
   ]
  },
  {
   "cell_type": "code",
   "execution_count": 5,
   "metadata": {},
   "outputs": [
    {
     "data": {
      "text/plain": [
       "b'\\x01\\x02\\x03\\x04'"
      ]
     },
     "execution_count": 5,
     "metadata": {},
     "output_type": "execute_result"
    }
   ],
   "source": [
    "a.to_bytes(4, 'big')"
   ]
  },
  {
   "cell_type": "code",
   "execution_count": 6,
   "metadata": {},
   "outputs": [
    {
     "data": {
      "text/plain": [
       "b'\\x04\\x03\\x02\\x01'"
      ]
     },
     "execution_count": 6,
     "metadata": {},
     "output_type": "execute_result"
    }
   ],
   "source": [
    "a.to_bytes(4, 'little')"
   ]
  },
  {
   "cell_type": "code",
   "execution_count": 7,
   "metadata": {},
   "outputs": [],
   "source": [
    "# 시간적 지역성: 특정 데이터에 한 번 접근했을 때 곧 다시 그 데이터에 접근할 가능성이 높다는 말이다.\n",
    "# 공간적 지역성: 이번에 접근할 데이터는 이전에 접근했던 데이터의 근처에 있을 확률이 높다는 말이다."
   ]
  },
  {
   "cell_type": "code",
   "execution_count": 8,
   "metadata": {},
   "outputs": [],
   "source": [
    "# 공간적 지역성의 예\n",
    "\n",
    "li = [1, 2, 3, 4, 5]\n",
    "res = 0\n",
    "for e in li:\n",
    "    res += e"
   ]
  },
  {
   "cell_type": "code",
   "execution_count": 9,
   "metadata": {},
   "outputs": [],
   "source": [
    "# 파이썬 리스트는 c언어의 배열처럼 요소가 메모리 공간에서 연속적으로 있지 않으므로 공간적 지역성이 적용되지 않는다."
   ]
  },
  {
   "cell_type": "code",
   "execution_count": 10,
   "metadata": {},
   "outputs": [],
   "source": [
    "# 캐시 프렌들리 코드: 캐시 히트가 잘 일어나도록 지역성을 고려해 작성한 코드"
   ]
  },
  {
   "cell_type": "code",
   "execution_count": 13,
   "metadata": {},
   "outputs": [],
   "source": [
    "# # 코드 9-1 segment.cpp\n",
    "# # include <iostream>\n",
    "# // CODE\n",
    "# int add(int a, int b){\n",
    "#     return a + b;\n",
    "# }\n",
    "\n",
    "\n",
    "# int subtract(int a, int b){\n",
    "#     return a - b;\n",
    "# }\n",
    "\n",
    "# // DATA\n",
    "# int global_x = 10;\n",
    "\n",
    "# int main(void) {\n",
    "#     //STACK\n",
    "#     int local_x = 20;\n",
    "    \n",
    "#     //HEAP\n",
    "#     int * heap_x = (int*)malloc(sizeof(int));\n",
    "#     *heap_x = 30;\n",
    "#     free(heap_x);\n",
    "    \n",
    "    \n",
    "#     return 0;\n",
    "# }"
   ]
  },
  {
   "cell_type": "code",
   "execution_count": 15,
   "metadata": {},
   "outputs": [],
   "source": [
    "# # 코드 9-2 stack_frame.c\n",
    "\n",
    "# #include <stido.h>\n",
    "\n",
    "# int adder(int a, int b, int n) {\n",
    "#     int c = a * n;\n",
    "#     int d = b * n;\n",
    "#     int e = c + d;\n",
    "#     return e;\n",
    "# }\n",
    "\n",
    "# int main(void) {\n",
    "#     int a = 10;\n",
    "#     int b = 20;\n",
    "#     int n = 2;\n",
    "#     int res = adder(a, b, n);\n",
    "#     return 0;\n",
    "# }"
   ]
  },
  {
   "cell_type": "code",
   "execution_count": null,
   "metadata": {},
   "outputs": [],
   "source": []
  }
 ],
 "metadata": {
  "kernelspec": {
   "display_name": "Python 3",
   "language": "python",
   "name": "python3"
  },
  "language_info": {
   "codemirror_mode": {
    "name": "ipython",
    "version": 3
   },
   "file_extension": ".py",
   "mimetype": "text/x-python",
   "name": "python",
   "nbconvert_exporter": "python",
   "pygments_lexer": "ipython3",
   "version": "3.6.5"
  }
 },
 "nbformat": 4,
 "nbformat_minor": 2
}
