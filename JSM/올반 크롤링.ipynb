{
 "cells": [
  {
   "cell_type": "code",
   "execution_count": 148,
   "metadata": {},
   "outputs": [
    {
     "ename": "TypeError",
     "evalue": "must be str, not int",
     "output_type": "error",
     "traceback": [
      "\u001b[0;31m---------------------------------------------------------------------------\u001b[0m",
      "\u001b[0;31mTypeError\u001b[0m                                 Traceback (most recent call last)",
      "\u001b[0;32m<ipython-input-148-f08be77bc144>\u001b[0m in \u001b[0;36m<module>\u001b[0;34m\u001b[0m\n\u001b[1;32m     18\u001b[0m \u001b[0;34m\u001b[0m\u001b[0m\n\u001b[1;32m     19\u001b[0m \u001b[0;32mfor\u001b[0m \u001b[0mi\u001b[0m \u001b[0;32min\u001b[0m \u001b[0mpage_no\u001b[0m\u001b[0;34m:\u001b[0m\u001b[0;34m\u001b[0m\u001b[0m\n\u001b[0;32m---> 20\u001b[0;31m     \u001b[0mi\u001b[0m \u001b[0;34m+=\u001b[0m \u001b[0;36m1\u001b[0m\u001b[0;34m\u001b[0m\u001b[0m\n\u001b[0m\u001b[1;32m     21\u001b[0m     params = {\n\u001b[1;32m     22\u001b[0m         \u001b[0;34m'CurrentPage'\u001b[0m\u001b[0;34m:\u001b[0m \u001b[0mi\u001b[0m\u001b[0;34m\u001b[0m\u001b[0m\n",
      "\u001b[0;31mTypeError\u001b[0m: must be str, not int"
     ]
    }
   ],
   "source": [
    "# from urlib.parse import SplitResult\n",
    "import requests\n",
    "from bs4 import BeautifulSoup\n",
    "import pprint\n",
    "\n",
    "# url_branch_list = 'http://www.naturekitchen.co.kr/Store/StoreFind.aspx?'\n",
    "# url_branch_list2 = 'http://www.naturekitchen.co.kr/Store/StoreFind.aspx?'\n",
    "# url_branch_list3 = 'http://www.naturekitchen.co.kr/Store/StoreFind.aspx?'\n",
    "\n",
    "maximum = 0\n",
    "page = 1\n",
    "\n",
    "basic_url_list = 'http://www.naturekitchen.co.kr/Store/StoreFind.aspx?'\n",
    "\n",
    "page_no = 'CurrentPage' \n",
    "area_list = 'Area=%EC%84%9C%EC%9A%B8'\n",
    "\n",
    "\n",
    "for i in page_no:\n",
    "    i += 1\n",
    "    params = {\n",
    "        'CurrentPage': i\n",
    "    }\n",
    "    \n",
    "response = requests.get(basic_url_list, area_list, params)\n",
    "\n",
    "result = response.text\n",
    "\n",
    "soup = BeautifulSoup(result, 'lxml')\n",
    "\n",
    "main_menu = soup.select('table.tbl_store > tbody > tr')\n",
    "\n",
    "for td_list in main_menu:\n",
    "    name = td_list.select_one('td:nth-of-type(2)')\n",
    "    location = td_list.select_one('td:nth-of-type(3)')\n",
    "    tel = td_list.select_one('td:nth-of-type(4)')\n",
    "    \n",
    "#     print(name)\n",
    "    print(location)\n",
    "#     print(tel)\n",
    "    "
   ]
  },
  {
   "cell_type": "code",
   "execution_count": null,
   "metadata": {},
   "outputs": [],
   "source": []
  }
 ],
 "metadata": {
  "kernelspec": {
   "display_name": "Python 3",
   "language": "python",
   "name": "python3"
  },
  "language_info": {
   "codemirror_mode": {
    "name": "ipython",
    "version": 3
   },
   "file_extension": ".py",
   "mimetype": "text/x-python",
   "name": "python",
   "nbconvert_exporter": "python",
   "pygments_lexer": "ipython3",
   "version": "3.6.5"
  }
 },
 "nbformat": 4,
 "nbformat_minor": 2
}
