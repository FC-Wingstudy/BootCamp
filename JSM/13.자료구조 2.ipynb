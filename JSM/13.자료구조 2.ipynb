{
 "cells": [
  {
   "cell_type": "code",
   "execution_count": 7,
   "metadata": {},
   "outputs": [
    {
     "ename": "RecursionError",
     "evalue": "maximum recursion depth exceeded",
     "output_type": "error",
     "traceback": [
      "\u001b[0;31m---------------------------------------------------------------------------\u001b[0m",
      "\u001b[0;31mRecursionError\u001b[0m                            Traceback (most recent call last)",
      "\u001b[0;32m<ipython-input-7-89f5639bac5f>\u001b[0m in \u001b[0;36m<module>\u001b[0;34m\u001b[0m\n\u001b[1;32m      5\u001b[0m \u001b[0;32mif\u001b[0m \u001b[0m__name__\u001b[0m \u001b[0;34m==\u001b[0m \u001b[0;34m\"__main__\"\u001b[0m\u001b[0;34m:\u001b[0m\u001b[0;34m\u001b[0m\u001b[0m\n\u001b[1;32m      6\u001b[0m     \u001b[0mn\u001b[0m \u001b[0;34m=\u001b[0m \u001b[0;36m3\u001b[0m\u001b[0;34m\u001b[0m\u001b[0m\n\u001b[0;32m----> 7\u001b[0;31m     \u001b[0mres\u001b[0m \u001b[0;34m=\u001b[0m \u001b[0mfactorial\u001b[0m\u001b[0;34m(\u001b[0m\u001b[0mn\u001b[0m\u001b[0;34m)\u001b[0m\u001b[0;34m\u001b[0m\u001b[0m\n\u001b[0m\u001b[1;32m      8\u001b[0m     \u001b[0mprint\u001b[0m\u001b[0;34m(\u001b[0m\u001b[0;34m\"The factorial of {} is {}\"\u001b[0m\u001b[0;34m.\u001b[0m\u001b[0mformat\u001b[0m\u001b[0;34m(\u001b[0m\u001b[0mn\u001b[0m\u001b[0;34m,\u001b[0m \u001b[0mres\u001b[0m\u001b[0;34m)\u001b[0m\u001b[0;34m)\u001b[0m\u001b[0;34m\u001b[0m\u001b[0m\n",
      "\u001b[0;32m<ipython-input-7-89f5639bac5f>\u001b[0m in \u001b[0;36mfactorial\u001b[0;34m(n)\u001b[0m\n\u001b[1;32m      1\u001b[0m \u001b[0;31m# 코드 13-1 factorial.py\u001b[0m\u001b[0;34m\u001b[0m\u001b[0;34m\u001b[0m\u001b[0m\n\u001b[1;32m      2\u001b[0m \u001b[0;32mdef\u001b[0m \u001b[0mfactorial\u001b[0m\u001b[0;34m(\u001b[0m\u001b[0mn\u001b[0m\u001b[0;34m)\u001b[0m\u001b[0;34m:\u001b[0m\u001b[0;34m\u001b[0m\u001b[0m\n\u001b[0;32m----> 3\u001b[0;31m     \u001b[0;32mreturn\u001b[0m \u001b[0mfactorial\u001b[0m\u001b[0;34m(\u001b[0m\u001b[0mn\u001b[0m\u001b[0;34m-\u001b[0m\u001b[0;36m1\u001b[0m\u001b[0;34m)\u001b[0m \u001b[0;34m*\u001b[0m \u001b[0mn\u001b[0m\u001b[0;34m\u001b[0m\u001b[0m\n\u001b[0m\u001b[1;32m      4\u001b[0m \u001b[0;34m\u001b[0m\u001b[0m\n\u001b[1;32m      5\u001b[0m \u001b[0;32mif\u001b[0m \u001b[0m__name__\u001b[0m \u001b[0;34m==\u001b[0m \u001b[0;34m\"__main__\"\u001b[0m\u001b[0;34m:\u001b[0m\u001b[0;34m\u001b[0m\u001b[0m\n",
      "... last 1 frames repeated, from the frame below ...\n",
      "\u001b[0;32m<ipython-input-7-89f5639bac5f>\u001b[0m in \u001b[0;36mfactorial\u001b[0;34m(n)\u001b[0m\n\u001b[1;32m      1\u001b[0m \u001b[0;31m# 코드 13-1 factorial.py\u001b[0m\u001b[0;34m\u001b[0m\u001b[0;34m\u001b[0m\u001b[0m\n\u001b[1;32m      2\u001b[0m \u001b[0;32mdef\u001b[0m \u001b[0mfactorial\u001b[0m\u001b[0;34m(\u001b[0m\u001b[0mn\u001b[0m\u001b[0;34m)\u001b[0m\u001b[0;34m:\u001b[0m\u001b[0;34m\u001b[0m\u001b[0m\n\u001b[0;32m----> 3\u001b[0;31m     \u001b[0;32mreturn\u001b[0m \u001b[0mfactorial\u001b[0m\u001b[0;34m(\u001b[0m\u001b[0mn\u001b[0m\u001b[0;34m-\u001b[0m\u001b[0;36m1\u001b[0m\u001b[0;34m)\u001b[0m \u001b[0;34m*\u001b[0m \u001b[0mn\u001b[0m\u001b[0;34m\u001b[0m\u001b[0m\n\u001b[0m\u001b[1;32m      4\u001b[0m \u001b[0;34m\u001b[0m\u001b[0m\n\u001b[1;32m      5\u001b[0m \u001b[0;32mif\u001b[0m \u001b[0m__name__\u001b[0m \u001b[0;34m==\u001b[0m \u001b[0;34m\"__main__\"\u001b[0m\u001b[0;34m:\u001b[0m\u001b[0;34m\u001b[0m\u001b[0m\n",
      "\u001b[0;31mRecursionError\u001b[0m: maximum recursion depth exceeded"
     ]
    }
   ],
   "source": [
    "# 코드 13-1 factorial.py\n",
    "def factorial(n):\n",
    "    return factorial(n-1) * n\n",
    "\n",
    "if __name__ == \"__main__\":\n",
    "    n = 3\n",
    "    res = factorial(n)\n",
    "    print(\"The factorial of {} is {}\".format(n, res))"
   ]
  },
  {
   "cell_type": "code",
   "execution_count": 38,
   "metadata": {},
   "outputs": [
    {
     "name": "stdout",
     "output_type": "stream",
     "text": [
      "The factorial of 7 is 5040\n"
     ]
    }
   ],
   "source": [
    "# 코드 13-2 factorial.py\n",
    "\n",
    "def factorial(n):\n",
    "    # 탈출 조건\n",
    "    if n <= 1:\n",
    "        return 1\n",
    "    return factorial(n-1) * n\n",
    "\n",
    "if __name__ == \"__main__\":\n",
    "    n = 7\n",
    "    res = factorial(n)\n",
    "    print(\"The factorial of {} is {}\".format(n, res))"
   ]
  },
  {
   "cell_type": "code",
   "execution_count": 39,
   "metadata": {},
   "outputs": [
    {
     "name": "stdout",
     "output_type": "stream",
     "text": [
      "0 1 1 2 3 5 8 13 21 34 "
     ]
    }
   ],
   "source": [
    "# 코드 13-3 fibonacci.py\n",
    "\n",
    "def fibonacci(n):\n",
    "    if n == 1:\n",
    "        return 0\n",
    "    elif n == 2:\n",
    "        return 1\n",
    "    \n",
    "    return fibonacci(n-2) + fibonacci(n-1)\n",
    "\n",
    "# 코드 13-4 fibonacci.py\n",
    "if __name__ == \"__main__\":\n",
    "    n = 10\n",
    "    for i in range(1, n+1):\n",
    "        print(fibonacci(i), end = ' ')ㅊ ㅊ ㅌㅋ"
   ]
  },
  {
   "cell_type": "code",
   "execution_count": 42,
   "metadata": {},
   "outputs": [],
   "source": [
    "# 코드 13-5 binary_tree.py\n",
    "\n",
    "class TreeNode:\n",
    "    def __init__(self):\n",
    "        self.__data = None\n",
    "        self.__left = None\n",
    "        self.__right = None\n",
    "        \n",
    "    # 노드 삭제를 확인하기 위한 소멸자\n",
    "    # 객체가 삭제되기 전에 호출된다\n",
    "    def __del__(self):\n",
    "        print(\"TreeNode of {} is deleted\".format(self.data))\n",
    "        \n",
    "    @property\n",
    "    def data(self):\n",
    "        return self.__data\n",
    "    \n",
    "    @data.setter\n",
    "    def data(self, data):\n",
    "        self.__data = data\n",
    "        \n",
    "    @property\n",
    "    def left(self):\n",
    "        return self.__left\n",
    "    \n",
    "    @left.setter\n",
    "    def left(self, left):\n",
    "        self.__left = left\n",
    "        \n",
    "    @property\n",
    "    def right(self):\n",
    "        return self.__right\n",
    "    \n",
    "    @right.setter\n",
    "    def right(self, right):\n",
    "        self.__right = right\n",
    "        \n",
    "# 코드 13-6 binarytree.py\n",
    "\n",
    "class BinaryTree:\n",
    "    def __init__(self):\n",
    "        # 멤버는 루트 노드를 가리키는 root 하나입니다.\n",
    "        self.root = None\n",
    "        \n",
    "    # 루트 노드 반환\n",
    "    def get_root(self):\n",
    "        return self.root\n",
    "    \n",
    "    \n",
    "    # 루트 노드 설정\n",
    "    def set_root(self, r):\n",
    "        self.root = r\n",
    "        \n",
    "    # 새로운 노드를 만들어 반환\n",
    "    def make_node(self):\n",
    "        new_node = TreeNode()\n",
    "        return new_node\n",
    "    \n",
    "    # 노드의 데이터 반환\n",
    "    def get_node_data(self, cur):\n",
    "        return cur.get_data()\n",
    "    \n",
    "    # 노드의 데이터 설정\n",
    "    def set_node_data(self, cur, data):\n",
    "        cur.set_data(data)\n",
    "\n",
    "# 코드 13-7 binary_tree.py\n",
    "\n",
    "    # 왼쪽 서브 트리 반환\n",
    "    def get_left_sub_tree(self, cur):\n",
    "        return cur.left\n",
    "    \n",
    "    # 오른쪽 서브 트리 반환\n",
    "    def get_right_sub_tree(self, cur):\n",
    "        return cur.right\n",
    "    \n",
    "    # 왼쪽 서브 트리를 만듭니다\n",
    "    def make_left_sub_tree(self, cur, left):\n",
    "        cur.left = left\n",
    "        \n",
    "    # 오른쪽 서브 트리를 만듭니다\n",
    "    def make_right_sub_tree(self, cur, right):\n",
    "        cur.right = right"
   ]
  },
  {
   "cell_type": "code",
   "execution_count": null,
   "metadata": {},
   "outputs": [],
   "source": []
  }
 ],
 "metadata": {
  "kernelspec": {
   "display_name": "Python 3",
   "language": "python",
   "name": "python3"
  },
  "language_info": {
   "codemirror_mode": {
    "name": "ipython",
    "version": 3
   },
   "file_extension": ".py",
   "mimetype": "text/x-python",
   "name": "python",
   "nbconvert_exporter": "python",
   "pygments_lexer": "ipython3",
   "version": "3.6.5"
  }
 },
 "nbformat": 4,
 "nbformat_minor": 2
}
