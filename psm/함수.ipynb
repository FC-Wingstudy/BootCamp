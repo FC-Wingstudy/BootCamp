{
 "cells": [
  {
   "cell_type": "markdown",
   "metadata": {},
   "source": [
    "## 전역변수"
   ]
  },
  {
   "cell_type": "markdown",
   "metadata": {},
   "source": [
    "### 전체 영역에서 접근할 수 있는 변수, 함수 안에서도 접근할 수 있어야한다."
   ]
  },
  {
   "cell_type": "code",
   "execution_count": 6,
   "metadata": {},
   "outputs": [
    {
     "name": "stdout",
     "output_type": "stream",
     "text": [
      "g_var = 10\n"
     ]
    }
   ],
   "source": [
    "g_var = 10\n",
    "\n",
    "def func():\n",
    "    print(\"g_var = {}\".format(g_var))\n",
    "\n",
    "if __name__ == '__main__':\n",
    "    func()"
   ]
  },
  {
   "cell_type": "code",
   "execution_count": null,
   "metadata": {},
   "outputs": [],
   "source": []
  },
  {
   "cell_type": "code",
   "execution_count": 18,
   "metadata": {},
   "outputs": [
    {
     "name": "stdout",
     "output_type": "stream",
     "text": [
      "g_var = 20 in fuction\n",
      "g_var = 10 in main\n"
     ]
    }
   ],
   "source": [
    "g_var = 10\n",
    "\n",
    "def func():\n",
    "    g_var = 20\n",
    "    print(\"g_var = {} in fuction\".format(g_var))\n",
    "\n",
    "if __name__ == '__main__':\n",
    "    func()\n",
    "    print(\"g_var = {} in main\".format(g_var))"
   ]
  },
  {
   "cell_type": "code",
   "execution_count": 16,
   "metadata": {},
   "outputs": [
    {
     "name": "stdout",
     "output_type": "stream",
     "text": [
      "g_var : 10 before\n",
      "g_var : 20 after\n"
     ]
    }
   ],
   "source": [
    "g_var = 10\n",
    "\n",
    "def func():\n",
    "    global g_var\n",
    "    g_var = 20\n",
    "    \n",
    "if __name__ == \"__main__\":\n",
    "    print(\"g_var : {} before\".format(g_var))\n",
    "    func()\n",
    "    print(\"g_var : {} after\".format(g_var))"
   ]
  },
  {
   "cell_type": "markdown",
   "metadata": {},
   "source": [
    "### nonlocal 키워드"
   ]
  },
  {
   "cell_type": "code",
   "execution_count": 28,
   "metadata": {},
   "outputs": [
    {
     "name": "stdout",
     "output_type": "stream",
     "text": [
      "1 2 3\n",
      "1 2 3 4 5\n"
     ]
    }
   ],
   "source": [
    "a = 1\n",
    "\n",
    "def outer():\n",
    "    b = 2\n",
    "    c = 3\n",
    "    print(a,b,c)\n",
    "    def inner():\n",
    "        d = 4\n",
    "        e = 5\n",
    "        print(a,b,c,d,e)\n",
    "    inner()\n",
    "    \n",
    "if __name__ == '__main__':\n",
    "    outer()"
   ]
  },
  {
   "cell_type": "code",
   "execution_count": 31,
   "metadata": {},
   "outputs": [
    {
     "name": "stdout",
     "output_type": "stream",
     "text": [
      "locals in outer : a = 100, b = 3\n"
     ]
    }
   ],
   "source": [
    "def outer():\n",
    "    a = 2\n",
    "    b = 3\n",
    "    \n",
    "    def inner():\n",
    "        nonlocal a\n",
    "        a = 100\n",
    "    inner()\n",
    "    \n",
    "    print(\"locals in outer : a = {}, b = {}\".format(a, b))\n",
    "\n",
    "if __name__ == \"__main__\":\n",
    "    outer()"
   ]
  },
  {
   "cell_type": "code",
   "execution_count": null,
   "metadata": {},
   "outputs": [],
   "source": []
  },
  {
   "cell_type": "code",
   "execution_count": 36,
   "metadata": {},
   "outputs": [
    {
     "name": "stdout",
     "output_type": "stream",
     "text": [
      "x : 20 in change_value\n",
      "x : 10 in main\n"
     ]
    }
   ],
   "source": [
    "def change_value(x, value):\n",
    "    x = value\n",
    "    print(\"x : {} in change_value\".format(x))\n",
    "    \n",
    "if __name__ == '__main__':\n",
    "    x = 10\n",
    "    change_value(x,20)\n",
    "    print(\"x : {} in main\".format(x))"
   ]
  },
  {
   "cell_type": "code",
   "execution_count": null,
   "metadata": {},
   "outputs": [],
   "source": []
  },
  {
   "cell_type": "code",
   "execution_count": 38,
   "metadata": {},
   "outputs": [
    {
     "name": "stdout",
     "output_type": "stream",
     "text": [
      "[\"I'am your father!\", 2, 3, 4]\n"
     ]
    }
   ],
   "source": [
    "def func(li):\n",
    "    li[0] = \"I'am your father!\"\n",
    "    \n",
    "if __name__ == '__main__':\n",
    "    li = [1,2,3,4]\n",
    "    func(li)\n",
    "    print(li)"
   ]
  },
  {
   "cell_type": "code",
   "execution_count": 39,
   "metadata": {},
   "outputs": [
    {
     "name": "stdout",
     "output_type": "stream",
     "text": [
      "[1, 2, 3, 4]\n"
     ]
    }
   ],
   "source": [
    "def func(li):\n",
    "    li = [\"I'am your father!\",2,3,4]\n",
    "    \n",
    "if __name__ == '__main__':\n",
    "    li = [1,2,3,4]\n",
    "    func(li)\n",
    "    print(li)"
   ]
  },
  {
   "cell_type": "code",
   "execution_count": null,
   "metadata": {},
   "outputs": [],
   "source": []
  }
 ],
 "metadata": {
  "kernelspec": {
   "display_name": "Python 3",
   "language": "python",
   "name": "python3"
  },
  "language_info": {
   "codemirror_mode": {
    "name": "ipython",
    "version": 3
   },
   "file_extension": ".py",
   "mimetype": "text/x-python",
   "name": "python",
   "nbconvert_exporter": "python",
   "pygments_lexer": "ipython3",
   "version": "3.6.6"
  }
 },
 "nbformat": 4,
 "nbformat_minor": 2
}
