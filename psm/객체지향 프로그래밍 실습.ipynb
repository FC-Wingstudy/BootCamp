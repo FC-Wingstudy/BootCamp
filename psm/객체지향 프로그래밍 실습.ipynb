{
 "cells": [
  {
   "cell_type": "markdown",
   "metadata": {},
   "source": [
    "# 객체지향 프로그래밍"
   ]
  },
  {
   "cell_type": "markdown",
   "metadata": {},
   "source": [
    "## 절차 지향 프로그래밍 (학급성적 평가 프로그래밍 만들어보기)\n",
    "\n",
    "### 엑셀파일을 사용하기위해서 필요한 모듈 설치\n",
    "+ pipenv install openpyxl "
   ]
  },
  {
   "cell_type": "code",
   "execution_count": 11,
   "metadata": {},
   "outputs": [
    {
     "name": "stdout",
     "output_type": "stream",
     "text": [
      "Collecting openpyxl\n",
      "\u001b[?25l  Downloading https://files.pythonhosted.org/packages/08/8a/509eb6f58672288da9a5884e1cc7e90819bc8dbef501161c4b40a6a4e46b/openpyxl-2.5.12.tar.gz (173kB)\n",
      "\u001b[K    100% |████████████████████████████████| 174kB 924kB/s ta 0:00:01\n",
      "\u001b[?25hCollecting jdcal (from openpyxl)\n",
      "  Downloading https://files.pythonhosted.org/packages/a0/38/dcf83532480f25284f3ef13f8ed63e03c58a65c9d3ba2a6a894ed9497207/jdcal-1.4-py2.py3-none-any.whl\n",
      "Collecting et_xmlfile (from openpyxl)\n",
      "  Downloading https://files.pythonhosted.org/packages/22/28/a99c42aea746e18382ad9fb36f64c1c1f04216f41797f2f0fa567da11388/et_xmlfile-1.0.1.tar.gz\n",
      "Installing collected packages: jdcal, et-xmlfile, openpyxl\n",
      "  Running setup.py install for et-xmlfile ... \u001b[?25ldone\n",
      "\u001b[?25h  Running setup.py install for openpyxl ... \u001b[?25ldone\n",
      "\u001b[?25hSuccessfully installed et-xmlfile-1.0.1 jdcal-1.4 openpyxl-2.5.12\n",
      "\u001b[33mYou are using pip version 10.0.1, however version 18.1 is available.\n",
      "You should consider upgrading via the 'pip install --upgrade pip' command.\u001b[0m\n"
     ]
    }
   ],
   "source": [
    "!pip install -t . openpyxl"
   ]
  },
  {
   "cell_type": "code",
   "execution_count": 38,
   "metadata": {},
   "outputs": [
    {
     "data": {
      "text/plain": [
       "['시트1']"
      ]
     },
     "execution_count": 38,
     "metadata": {},
     "output_type": "execute_result"
    }
   ],
   "source": [
    "# 모듈불러오기\n",
    "from openpyxl import *\n",
    "# 파일 불러오기\n",
    "wb = load_workbook('oop1/oop1_1/exam.xlsx')\n",
    "wb.sheetnames"
   ]
  },
  {
   "cell_type": "code",
   "execution_count": 39,
   "metadata": {},
   "outputs": [
    {
     "data": {
      "text/plain": [
       "<Worksheet \"시트1\">"
      ]
     },
     "execution_count": 39,
     "metadata": {},
     "output_type": "execute_result"
    }
   ],
   "source": [
    "# 현재 활성화된 sheet를 받아옴\n",
    "ws = wb.active\n",
    "ws"
   ]
  },
  {
   "cell_type": "code",
   "execution_count": 40,
   "metadata": {},
   "outputs": [
    {
     "data": {
      "text/plain": [
       "(<Cell '시트1'.A1>, <Cell '시트1'.B1>, <Cell '시트1'.C1>, <Cell '시트1'.D1>)"
      ]
     },
     "execution_count": 40,
     "metadata": {},
     "output_type": "execute_result"
    }
   ],
   "source": [
    "# rows는 데이터가 있는 모든 행을ㄹ 발생자 객체로 반환\n",
    "g = ws.rows\n",
    "# next()함수로 첫 번째 행을 가져와 출력하면 엑셀 파일의 셀들이 들어 있는 것을 확인\n",
    "cells = next(g)\n",
    "cells"
   ]
  },
  {
   "cell_type": "code",
   "execution_count": 41,
   "metadata": {},
   "outputs": [
    {
     "data": {
      "text/plain": [
       "['name', 'math', 'literature', 'science']"
      ]
     },
     "execution_count": 41,
     "metadata": {},
     "output_type": "execute_result"
    }
   ],
   "source": [
    "# 1행을 학생 데이터를 담을 딕셔너리의 키로 사용.\n",
    "# keys 리스트에 담기\n",
    "keys = []\n",
    "for cell in cells:\n",
    "    # 셀의 value에 접근해서 실제 값을 가져옴.\n",
    "    keys.append(cell.value)\n",
    "\n",
    "keys"
   ]
  },
  {
   "cell_type": "code",
   "execution_count": 42,
   "metadata": {},
   "outputs": [
    {
     "data": {
      "text/plain": [
       "[{'name': 'greg', 'math': 95, 'literature': 65, 'science': 75},\n",
       " {'name': 'john', 'math': 25, 'literature': 30, 'science': 55},\n",
       " {'name': 'yang', 'math': 50, 'literature': 45, 'science': 40},\n",
       " {'name': 'timothy', 'math': 15, 'literature': 65, 'science': 90},\n",
       " {'name': 'melisa', 'math': 100, 'literature': 100, 'science': 100},\n",
       " {'name': 'thor', 'math': 10, 'literature': 15, 'science': 20},\n",
       " {'name': 'elen', 'math': 25, 'literature': 50, 'science': 100},\n",
       " {'name': 'mark', 'math': 80, 'literature': 75, 'science': 80},\n",
       " {'name': 'steve', 'math': 95, 'literature': 100, 'science': 95},\n",
       " {'name': 'anna', 'math': 20, 'literature': 20, 'science': 20}]"
      ]
     },
     "execution_count": 42,
     "metadata": {},
     "output_type": "execute_result"
    }
   ],
   "source": [
    "# 학생들 데이터를 가져와 딕셔너리에 저장하기\n",
    "\n",
    "student_data = []\n",
    "for row in g:\n",
    "    # 딕셔너리 컴프레헨션을 이용해 학생 한명의 데이터를 모은 딕셔너리 \n",
    "    dic = {k : c.value for k, c in zip(keys, row)}\n",
    "    # 전체 학생 데이터를 저장하는 리스트 추가\n",
    "    student_data.append(dic)\n",
    "\n",
    "student_data"
   ]
  },
  {
   "cell_type": "code",
   "execution_count": 48,
   "metadata": {},
   "outputs": [
    {
     "name": "stdout",
     "output_type": "stream",
     "text": [
      "평균: 51.5, 분산: 1240.2, 표준편차: 35.2\n",
      "성적은 평균 이상이지만 학생들이 실력 차이가 크다. 주의 요망!\n"
     ]
    }
   ],
   "source": [
    "# 함수를 사용하지 않은 코드\n",
    "import openpyxl\n",
    "import math\n",
    "# 학년 전체 학생의 평균 50점\n",
    "\n",
    "raw_data = {}\n",
    "wb = openpyxl.load_workbook('oop1/oop1_1/class_2_3.xlsx')\n",
    "ws = wb.active\n",
    "g = ws.rows\n",
    "for name, score in g:\n",
    "    raw_data[name.value] = score.value\n",
    "    \n",
    "scores = list(raw_data.values())    \n",
    "\n",
    "s = 0\n",
    "\n",
    "for score in scores:\n",
    "    s += score\n",
    "    \n",
    "avrg = round(s/len(scores),1)\n",
    "\n",
    "s = 0\n",
    "\n",
    "for score in scores:\n",
    "    s += (score - avrg) **2\n",
    "    \n",
    "variance = round(s/len(scores),1)\n",
    "\n",
    "std_dev = round(math.sqrt(variance),1)\n",
    "\n",
    "print(\"평균: {0}, 분산: {1}, 표준편차: {2}\".format(avrg, variance, std_dev))\n",
    "\n",
    "if avrg < 50 and std_dev > 20:\n",
    "    print(\"성적이 너무 저조하고 학생들의 실력 차이가 너무 크다.\")\n",
    "elif avrg > 50 and std_dev > 20:\n",
    "    print(\"성적은 평균 이상이지만 학생들이 실력 차이가 크다. 주의 요망!\")\n",
    "elif avrg < 50 and std_dev < 20:\n",
    "    print(\"학생들의 실력 차이는 크지 않지만 성적이 너무 저조하다. 주의 요망!\")\n",
    "elif avrg > 50 and std_dev < 20:\n",
    "    print(\"성적도 평균 이상이고 학생들의 실력 차이도 크지 않다.\")\n"
   ]
  },
  {
   "cell_type": "code",
   "execution_count": 50,
   "metadata": {},
   "outputs": [],
   "source": [
    "raw_data = {}\n",
    "wb = openpyxl.load_workbook('oop1/oop1_1/class_2_3.xlsx')\n",
    "ws = wb.active\n",
    "g = ws.rows\n",
    "\n",
    "for name, score in g:\n",
    "    raw_data[name.value] = score.value"
   ]
  },
  {
   "cell_type": "code",
   "execution_count": 69,
   "metadata": {},
   "outputs": [],
   "source": [
    "import openpyxl\n",
    "import math\n",
    "\n",
    "def get_data_from_excel(filename):\n",
    "    \"\"\"\n",
    "    get_data_from_excel(filename) -> {'name1': 'score1', 'name2': 'score2',....}\n",
    "    엑셀 파일에서 데이터를 가져온다.\n",
    "    반환값은 key가 학생 이름이고 value가 점수인 딕셔너리\n",
    "    \"\"\"\n",
    "    dic ={}\n",
    "    wb = openpyxl.load_workbook(filename)\n",
    "    ws = wb.active\n",
    "    g = ws.rows\n",
    "    \n",
    "    for name, score in g:\n",
    "        dic[name.value]=score.value\n",
    "        \n",
    "    return dic"
   ]
  },
  {
   "cell_type": "code",
   "execution_count": 70,
   "metadata": {},
   "outputs": [],
   "source": [
    "# 평균, 분산, 표준편차 구하는 부분\n",
    "\n",
    "s = 0\n",
    "\n",
    "for score in scores:\n",
    "    s += score\n",
    "    \n",
    "avrg = round(s/len(scores),1)\n",
    "\n",
    "s = 0\n",
    "\n",
    "for score in scores:\n",
    "    s += (score - avrg) ** 2\n",
    "    \n",
    "variance = round(s/len(scores),1)\n",
    "\n",
    "std_dev = round(math.sqrt(variance),1)"
   ]
  },
  {
   "cell_type": "code",
   "execution_count": 77,
   "metadata": {},
   "outputs": [],
   "source": [
    "# 위 부분을 함수로 표현\n",
    "def average(scores):\n",
    "    s = 0\n",
    "    for score in scores:\n",
    "        s += score\n",
    "    return round(s/len(scores),1)\n",
    "\n",
    "def variance(scores, avrg):\n",
    "    s = 0\n",
    "    for score in scores:\n",
    "        s += (score - avrg) ** 2\n",
    "    return round(s/len(scores),1)\n",
    "\n",
    "def std_dev(variance):\n",
    "    return round(math.sqrt(variance),1)"
   ]
  },
  {
   "cell_type": "code",
   "execution_count": 78,
   "metadata": {},
   "outputs": [],
   "source": [
    "# 함수는 반 평균, 학년 전체 평균, 반의 표준편차, 담임 선생님이 비교하고자 하는 표준 편차를 인자로 전달하면 이에 맞는 평가를 출력\n",
    "\n",
    "def evaluateClass(avrg, total_avrg, std_dev, sd):\n",
    "    \"\"\"\n",
    "    evaluateClass(avrg, total_avrg, std_dev, sd) -> None\n",
    "    avrg : 반 성적 평균\n",
    "    total_avrg : 학년 전체 성적 평균\n",
    "    std_dev : 반의 표준편차\n",
    "    sd : 원하는 표준편차 기준\n",
    "    \"\"\"\n",
    "    \n",
    "    if avrg < total_avrg and std_dev > sd:\n",
    "        print(\"성적이 너무 저조하고 학생들의 실력 차이가 너무크다.\")\n",
    "    elif avrg > total_avrg and std_dev > sd:\n",
    "        print(\"성적은 평균 이상이지만 학생들의 실력 차이가 크다. 주의 요망!\")\n",
    "    elif avrg < total_avrg and std_dev < sd:\n",
    "        print(\"학생들의 실력 차이는 크지 않지만 성적이 너무 저조하다. 주의 요망!\")\n",
    "    elif avrg > total_avrg and std_dev < sd:\n",
    "        print(\"서ㅓㅇ적도 평균 이상이고 학생들의 실력 차이도 크지 않다\")"
   ]
  },
  {
   "cell_type": "code",
   "execution_count": 79,
   "metadata": {
    "scrolled": true
   },
   "outputs": [
    {
     "name": "stdout",
     "output_type": "stream",
     "text": [
      "평균: 51.5, 분산: 1240.2, 표준편차: 35.2\n",
      "성적은 평균 이상이지만 학생들의 실력 차이가 크다. 주의 요망!\n"
     ]
    }
   ],
   "source": [
    "# 프로그램이 실핼될 main.py\n",
    "\n",
    "from functools import *\n",
    "# 학년 전체 학생의 평균 : 50 점\n",
    "\n",
    "if __name__ == \"__main__\":\n",
    "    raw_data = get_data_from_excel('oop1/oop1_1/class_2_3.xlsx')\n",
    "    scores = list(raw_data.values())\n",
    "    \n",
    "    avrg = average(scores)\n",
    "    variance = variance(scores, avrg)\n",
    "    standard_deviation = std_dev(variance)\n",
    "    \n",
    "    print(\"평균: {0}, 분산: {1}, 표준편차: {2}\".format(avrg, variance, standard_deviation))\n",
    "    \n",
    "    evaluateClass(avrg, 50, standard_deviation, 20)"
   ]
  },
  {
   "cell_type": "markdown",
   "metadata": {},
   "source": [
    "## 객체 지향 프로그래밍\n",
    "+ 객체 지향 프로그래밍은 이것을 어떻게 표현할것인가???라는 의미"
   ]
  },
  {
   "cell_type": "code",
   "execution_count": 86,
   "metadata": {},
   "outputs": [],
   "source": [
    "# 인스턴스 멤버 초기화\n",
    "def person_init(name, money):\n",
    "    obj = {'name':name, 'money':money}\n",
    "    obj['give_money'] = Person[1]\n",
    "    obj['get_money']  = Person[2]\n",
    "    obj['show'] = Person[3]\n",
    "    return obj"
   ]
  },
  {
   "cell_type": "code",
   "execution_count": 90,
   "metadata": {},
   "outputs": [],
   "source": [
    "def give_money(self, other, money):\n",
    "    self['money'] -= money\n",
    "    other['get_money'](other, money)\n",
    "    \n",
    "def get_money(self, money):\n",
    "    self['money'] += money\n",
    "    \n",
    "def show(self):\n",
    "    print(\"{}:{}\".format(self['name'], self['money']))"
   ]
  },
  {
   "cell_type": "code",
   "execution_count": 91,
   "metadata": {},
   "outputs": [],
   "source": [
    "Person = person_init, give_money, get_money, show"
   ]
  },
  {
   "cell_type": "code",
   "execution_count": 92,
   "metadata": {},
   "outputs": [
    {
     "name": "stdout",
     "output_type": "stream",
     "text": [
      "greg:5000\n",
      "john:2000\n",
      "\n",
      "greg:3000\n",
      "john:4000\n"
     ]
    }
   ],
   "source": [
    "if __name__ == '__main__':\n",
    "    # 객체 생성\n",
    "    g = Person[0]('greg', 5000)\n",
    "    j = Person[0]('john', 2000)\n",
    "    \n",
    "    g['show'](g)\n",
    "    j['show'](j)\n",
    "    print('')\n",
    "    \n",
    "    # 메시지 패싱\n",
    "    g['give_money'](g,j,2000)\n",
    "    \n",
    "    g['show'](g)\n",
    "    j['show'](j)"
   ]
  },
  {
   "cell_type": "markdown",
   "metadata": {},
   "source": [
    "### 클래스를 사용해 객체 만들기"
   ]
  },
  {
   "cell_type": "code",
   "execution_count": 93,
   "metadata": {},
   "outputs": [],
   "source": [
    "class Person:\n",
    "    def __init__(self, name, money):\n",
    "        self.name = name\n",
    "        self.money = money\n",
    "        \n",
    "    def give_money(self, other, money):\n",
    "        self.money -= money\n",
    "        other.get_money(money)\n",
    "        \n",
    "    def get_money(self, money):\n",
    "        self.money += money\n",
    "        \n",
    "    def show(self):\n",
    "        print(\"{} : {}\".format(self.name, self.money))"
   ]
  },
  {
   "cell_type": "code",
   "execution_count": 94,
   "metadata": {},
   "outputs": [
    {
     "name": "stdout",
     "output_type": "stream",
     "text": [
      "greg : 5000\n",
      "john : 2000\n",
      "\n",
      "greg : 3000\n",
      "john : 4000\n"
     ]
    }
   ],
   "source": [
    "if __name__ == '__main__':\n",
    "    g = Person('greg', 5000)\n",
    "    j = Person('john', 2000)\n",
    "    \n",
    "    g.show()\n",
    "    j.show()\n",
    "    \n",
    "    g.give_money(j,2000)\n",
    "    print('')\n",
    "    \n",
    "    g.show()\n",
    "    j.show()"
   ]
  },
  {
   "cell_type": "code",
   "execution_count": 95,
   "metadata": {},
   "outputs": [],
   "source": [
    "class A:\n",
    "    c_mem=10\n",
    "    \n",
    "    @classmethod\n",
    "    def cls_f(cls):\n",
    "        print(cls.c_mem)\n",
    "    \n",
    "    def __init__(self, num):\n",
    "        self.i_mem=num\n",
    "        \n",
    "    def ins_f(self):\n",
    "        print(self.i_mem)"
   ]
  },
  {
   "cell_type": "code",
   "execution_count": 96,
   "metadata": {},
   "outputs": [
    {
     "name": "stdout",
     "output_type": "stream",
     "text": [
      "10\n",
      "10\n"
     ]
    }
   ],
   "source": [
    "if __name__ == '__main__':\n",
    "    print(A.c_mem)\n",
    "    A.cls_f()"
   ]
  },
  {
   "cell_type": "code",
   "execution_count": 98,
   "metadata": {},
   "outputs": [
    {
     "name": "stdout",
     "output_type": "stream",
     "text": [
      "10\n",
      "10\n",
      "10\n",
      "10\n"
     ]
    }
   ],
   "source": [
    "if __name__ == '__main__':\n",
    "    print(A.c_mem)\n",
    "    A.cls_f()\n",
    "    \n",
    "    a = A(20)\n",
    "    print(a.c_mem)\n",
    "    a.cls_f()"
   ]
  },
  {
   "cell_type": "markdown",
   "metadata": {},
   "source": [
    "## 객체 지향으로 은행 입출금 프로그램 만들기"
   ]
  },
  {
   "cell_type": "code",
   "execution_count": 109,
   "metadata": {},
   "outputs": [],
   "source": [
    "class Account:\n",
    "    num_acnt = 0\n",
    "    \n",
    "    @classmethod\n",
    "    def get_num_acnt(cls):\n",
    "        \"\"\"\n",
    "        cls.get_num_acnt() -> integer\n",
    "        \"\"\"\n",
    "        return cls.num_acnt\n",
    "    \n",
    "    def __init__(self, name, money):\n",
    "        self.user = name\n",
    "        self.balance = money\n",
    "        Account.num_acnt += 1\n",
    "        \n",
    "    def deposit(self, money):\n",
    "        if money < 0:\n",
    "            return\n",
    "        self.balance += money\n",
    "        \n",
    "    def withdraw(self, money):\n",
    "        if money > 0 and money <= self.balance:\n",
    "            self.balance -= money\n",
    "            return money\n",
    "        else:\n",
    "            return None\n",
    "        \n",
    "    def transfer(self, other, money):\n",
    "        \"\"\"\n",
    "        obj.transfer(other, money) -> bool\n",
    "        other : The object to interact with\n",
    "        money : money the user wants to send\n",
    "        \n",
    "        \n",
    "        returns True if the balance is enough to transfer\n",
    "        returns False if not\n",
    "        \"\"\"\n",
    "        mon = self.withdraw(money)\n",
    "        if mon:\n",
    "            other.deposit(mon)\n",
    "            return True\n",
    "        else:\n",
    "            return False\n",
    "        \n",
    "    def __str__(self):\n",
    "        return 'user:{}, balance:{}'.format(self.user, self.balance)"
   ]
  },
  {
   "cell_type": "code",
   "execution_count": 110,
   "metadata": {},
   "outputs": [
    {
     "name": "stdout",
     "output_type": "stream",
     "text": [
      "object created\n",
      "user:greg, balance:5000\n",
      "user:john, balance:1000\n",
      "\n",
      "deposit\n",
      "user:greg, balance:5500\n",
      "\n",
      "withdraw\n",
      "withdrawn money : 1500\n",
      "\n",
      "class member\n",
      "2\n",
      "\n",
      "class method\n",
      "The number of accounts : 2\n",
      "\n",
      "message passing\n",
      "user:greg, balance:4000\n",
      "user:john, balance:1000\n",
      "transfer succeeded\n",
      "user:greg, balance:2000\n",
      "user:john, balance:3000\n"
     ]
    }
   ],
   "source": [
    "if __name__ == '__main__':\n",
    "    # 객체 생성\n",
    "    my_acnt = Account('greg', 5000)\n",
    "    your_acnt = Account('john', 1000)\n",
    "    \n",
    "    # 생성 확인\n",
    "    print('object created')\n",
    "    print(my_acnt)\n",
    "    print(your_acnt)\n",
    "    print()\n",
    "    \n",
    "    # 인스턴스 메서드를 호출하는 방법\n",
    "    #1. by object\n",
    "    my_acnt.deposit(500)\n",
    "    #2. by class\n",
    "    # Account.deposit(my_acnt, 500)\n",
    "    \n",
    "    # deposit확인\n",
    "    \n",
    "    print('deposit')\n",
    "    print(my_acnt)\n",
    "    print()\n",
    "    \n",
    "    # withdraw 함수 사용버\n",
    "    print('withdraw')\n",
    "    money = my_acnt.withdraw(1500)\n",
    "    if money:\n",
    "        print('withdrawn money : {}'.format(money))\n",
    "    else:\n",
    "        print('Not enough to withdraw')\n",
    "    print()\n",
    "    \n",
    "    # 클래스 멤버에 접근하는 방법\n",
    "    print('class member')\n",
    "    #1.by class\n",
    "    print(Account.num_acnt)\n",
    "    #2.by object\n",
    "    #print(my_acnt.num_acnt)\n",
    "    print()\n",
    "    \n",
    "    # 클래스 메서드를 호출하는 방법\n",
    "    print('class method')\n",
    "    # 1.by class\n",
    "    n_acnt = Account.get_num_acnt()\n",
    "    # 2. by object\n",
    "    # n_acnt = my_acnt.get_num_acnt()\n",
    "    \n",
    "    print('The number of accounts : {}'. format(n_acnt))\n",
    "    print()\n",
    "    \n",
    "    \n",
    "    # 메시지 패싱\n",
    "    print('message passing')\n",
    "    print(my_acnt)\n",
    "    print(your_acnt)\n",
    "    res = my_acnt.transfer(your_acnt, 2000)\n",
    "    if res:\n",
    "        print('transfer succeeded')\n",
    "    else:\n",
    "        print('transfer failed')\n",
    "    print(my_acnt)\n",
    "    print(your_acnt)\n",
    "    \n",
    "    \n",
    "    "
   ]
  },
  {
   "cell_type": "code",
   "execution_count": null,
   "metadata": {},
   "outputs": [],
   "source": []
  }
 ],
 "metadata": {
  "kernelspec": {
   "display_name": "Python 3",
   "language": "python",
   "name": "python3"
  },
  "language_info": {
   "codemirror_mode": {
    "name": "ipython",
    "version": 3
   },
   "file_extension": ".py",
   "mimetype": "text/x-python",
   "name": "python",
   "nbconvert_exporter": "python",
   "pygments_lexer": "ipython3",
   "version": "3.6.6"
  }
 },
 "nbformat": 4,
 "nbformat_minor": 2
}
