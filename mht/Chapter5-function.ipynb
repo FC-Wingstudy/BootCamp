{
 "cells": [
  {
   "cell_type": "markdown",
   "metadata": {},
   "source": [
    "## 함수(function)\n",
    "\n",
    "-------------------------"
   ]
  },
  {
   "cell_type": "markdown",
   "metadata": {},
   "source": [
    "### 스택의 개념\n",
    "\n",
    "<u>스택은 한 쪽 끝에서만 자료를 넣거나 뺄 수 있는 선형 구조(LIFO, Last-In First-Out)로 되어있다.</u>\n",
    "\n",
    "**추가설명**\n",
    "\n",
    "자료를 넣는 것을 Push // 넣어둔 자료를 꺼내는 것을 Pop 이라고 한다."
   ]
  },
  {
   "cell_type": "markdown",
   "metadata": {},
   "source": [
    "![스택이미지](./image/stack.png)"
   ]
  },
  {
   "cell_type": "markdown",
   "metadata": {},
   "source": [
    "\n"
   ]
  },
  {
   "cell_type": "markdown",
   "metadata": {},
   "source": [
    "### 전역변수(global varaiable)\n",
    "\n",
    "`전역변수`는 **전체 영역에서 접근할 수 있는 변수**로 <u>지역 변수는 호출할 때 발생되었다가 호출이 끝나면 종료되는 반면 전역변수는 지역 변수와 다르게 데이터 영역에 저장된다.</u>"
   ]
  },
  {
   "cell_type": "markdown",
   "metadata": {},
   "source": [
    "`#전역변수 개념1`"
   ]
  },
  {
   "cell_type": "code",
   "execution_count": 14,
   "metadata": {},
   "outputs": [
    {
     "name": "stdout",
     "output_type": "stream",
     "text": [
      "g_var = 10\n"
     ]
    }
   ],
   "source": [
    "g_var = 10\n",
    "\n",
    "def func():\n",
    "    print('g_var = {}'.format(g_var))\n",
    "    \n",
    "if __name__=='__main__':\n",
    "    func()"
   ]
  },
  {
   "cell_type": "markdown",
   "metadata": {},
   "source": [
    "`#전역변수 개념2`"
   ]
  },
  {
   "cell_type": "code",
   "execution_count": 11,
   "metadata": {},
   "outputs": [
    {
     "name": "stdout",
     "output_type": "stream",
     "text": [
      "g_var(지역변수) = 20 in func\n",
      "g_var = 10 in func\n"
     ]
    }
   ],
   "source": [
    "g_var = 10\n",
    "\n",
    "def func():\n",
    "    g_var = 20 # 새로운 지역변수 생성\n",
    "    print(\"g_var(지역변수) = {} in func\".format(g_var))\n",
    "    \n",
    "if __name__ == \"__main__\":\n",
    "    func()\n",
    "    print(\"g_var = {} in func\".format(g_var))"
   ]
  },
  {
   "cell_type": "markdown",
   "metadata": {},
   "source": [
    "\n"
   ]
  },
  {
   "cell_type": "markdown",
   "metadata": {},
   "source": [
    "### 지역변수(local variable)"
   ]
  },
  {
   "cell_type": "markdown",
   "metadata": {},
   "source": [
    "지역변수는 함수 안에서만 사용되어지며, 함수의 실행이 끝나면 그대로 사라진다.(매개변수도 함수에서 지역변수처럼 인자를 받기 때문에 동일한 조건)"
   ]
  },
  {
   "cell_type": "code",
   "execution_count": 22,
   "metadata": {},
   "outputs": [
    {
     "name": "stdout",
     "output_type": "stream",
     "text": [
      "before : 10\n",
      "after : 20\n"
     ]
    }
   ],
   "source": [
    "g_var = 10\n",
    "\n",
    "def func():\n",
    "    global g_var\n",
    "    g_var = 20\n",
    "    \n",
    "if __name__ == \"__main__\":\n",
    "    print('before : {}'.format(g_var)) # 전역 변수 사용\n",
    "    func() # func()를 순서대로 읽는데, global 함수로 인하여 전역 변수가 20 으로 재참조\n",
    "    print('after : {}'.format(g_var)) # 지역 변수의 전역변수화"
   ]
  },
  {
   "cell_type": "markdown",
   "metadata": {},
   "source": [
    "이와 같은 결과를 비추어 정리하면 아래와 같다.\n",
    "\n",
    "- 지역변수는 `변수 안에서만 동작`하고, `실제로 출력되는 변수의 값은 전역변수`가 사용되어 진다.\n",
    "\n",
    "- `지역 변수`는 `전역 변수`를 변경한 것이 아니라 새로운 변수를 만들어 `지역 변수`로 할당한 것이다."
   ]
  },
  {
   "cell_type": "markdown",
   "metadata": {},
   "source": [
    "\n"
   ]
  },
  {
   "cell_type": "markdown",
   "metadata": {},
   "source": [
    "## 바로 위에 있는 지역변수를 새로 참조(nonlocal)"
   ]
  },
  {
   "cell_type": "markdown",
   "metadata": {},
   "source": [
    "지역변수(outer)와 그 안의 지역변수(inner)을 nonlocal을 사용하여 지역 변수를 새로 생성"
   ]
  },
  {
   "cell_type": "code",
   "execution_count": 44,
   "metadata": {},
   "outputs": [
    {
     "name": "stdout",
     "output_type": "stream",
     "text": [
      "outer : 1, 2, 3\n",
      "inner : 1, 2, 3, 4, 5\n"
     ]
    }
   ],
   "source": [
    "a = 1\n",
    "\n",
    "def outer():\n",
    "    b = 2\n",
    "    c = 3\n",
    "    print(f'outer : {a}, {b}, {c}')\n",
    "    def inner():\n",
    "        d = 4\n",
    "        e = 5\n",
    "        print(f'inner : {a}, {b}, {c}, {d}, {e}')\n",
    "    inner()\n",
    "        \n",
    "if __name__ == '__main__':\n",
    "    outer()"
   ]
  },
  {
   "cell_type": "markdown",
   "metadata": {},
   "source": [
    "\n",
    "\n"
   ]
  },
  {
   "cell_type": "code",
   "execution_count": 46,
   "metadata": {},
   "outputs": [
    {
     "name": "stdout",
     "output_type": "stream",
     "text": [
      "locals in outer: a = 100, b = 3\n"
     ]
    }
   ],
   "source": [
    "def outer():\n",
    "    a = 2\n",
    "    b = 3\n",
    "    \n",
    "    def inner():\n",
    "        nonlocal a\n",
    "        a = 100\n",
    "    inner()\n",
    "    \n",
    "    print('locals in outer: a = {}, b = {}'.format(a, b))\n",
    "    \n",
    "if __name__ == '__main__':\n",
    "    \n",
    "    outer()"
   ]
  },
  {
   "cell_type": "markdown",
   "metadata": {},
   "source": [
    "\n"
   ]
  },
  {
   "cell_type": "markdown",
   "metadata": {},
   "source": [
    "## 인자 전달 방식에 따른 분류"
   ]
  },
  {
   "cell_type": "markdown",
   "metadata": {},
   "source": [
    "### 값에 의한 전달(call by value)\n",
    "\n",
    "변수를 참조하게 될 경우에는 참조하는 변수가 변경되면 값도 같이 변경이 되지만 call by value 방식에 따르면 참조의 개념이 아닌 **변수의 값을 복사**하는 개념으로 접근하기 때문에 변수의 값이 변하지 않는다."
   ]
  },
  {
   "cell_type": "markdown",
   "metadata": {},
   "source": [
    "\n",
    "--------------------\n",
    "```c\n",
    "include <iostream>\n",
    "using namespace std;\n",
    "\n",
    "void change_value(int x, int value)\n",
    "{\n",
    "    x = value;\n",
    "    cout << \"x : \" << x << \" in change_value\" << end1;\n",
    "}\n",
    "\n",
    "int main(void)\n",
    "{\n",
    "    int x = 10;\n",
    "    change_value(x, 20);\n",
    "    cout << \"x : \" << x << \" in main\" << end1;\n",
    "    \n",
    "    return 0;\n",
    "}\n",
    "\n",
    "\n",
    ">> x : 20 in change_value\n",
    ">> x : 10 in main\n",
    "```\n",
    "---------------------\n",
    "\n"
   ]
  },
  {
   "cell_type": "markdown",
   "metadata": {},
   "source": [
    "![스택프레임](./image/stack_test.png)"
   ]
  },
  {
   "cell_type": "markdown",
   "metadata": {},
   "source": [
    "```c++\n",
    "#include <iostream>\n",
    "using namespace std;\n",
    "\n",
    "int test(int a, int b);\n",
    "\n",
    "int main(void)\n",
    "{\n",
    "    int a = 10, b = 5;\n",
    "    int res = test(a, b);\n",
    "    cout << \"result of test : \" << res << endl;\n",
    "    return 0;\n",
    "}\n",
    "\n",
    "int test(int a, int b)\n",
    "{\n",
    "    int c = a + b;\n",
    "    int d = a - b;\n",
    "    return c + d;\n",
    "}\n",
    "\n",
    "```"
   ]
  },
  {
   "cell_type": "markdown",
   "metadata": {},
   "source": [
    "## call by reference(참조에 의한 전달)"
   ]
  },
  {
   "cell_type": "markdown",
   "metadata": {},
   "source": [
    "변수를 불러올 때 메모리의 값 자체를 복사하는 방식인 call by value 와는 달리 메모리의 주소값을 불러와서 값을 보여준다."
   ]
  },
  {
   "cell_type": "markdown",
   "metadata": {},
   "source": [
    "```c++\n",
    "#include<iostream>\n",
    "using namespace std;\n",
    "\n",
    "void change_value(int *x, int value)\n",
    "{\n",
    "    *x = value;\n",
    "    cout << \"x : \" << x << \" in change_value\" << endl;\n",
    "}\n",
    "\n",
    "int main(void)\n",
    "{\n",
    "    int x = 10;\n",
    "    change_value(&x, 20);\n",
    "    cout << \"x : \" << x << \" in main\" << endl;\n",
    "}\n",
    "```"
   ]
  },
  {
   "cell_type": "code",
   "execution_count": null,
   "metadata": {},
   "outputs": [],
   "source": []
  },
  {
   "cell_type": "markdown",
   "metadata": {},
   "source": [
    "\n"
   ]
  },
  {
   "cell_type": "code",
   "execution_count": 57,
   "metadata": {},
   "outputs": [
    {
     "name": "stdout",
     "output_type": "stream",
     "text": [
      "x : 20 in change_value\n",
      "x : 10 in main\n"
     ]
    }
   ],
   "source": [
    "def change_value(x, value):\n",
    "    x = value\n",
    "    print('x : {} in change_value'.format(x))\n",
    "    \n",
    "if __name__=='__main__':\n",
    "    x = 10\n",
    "    change_value(x, 20)\n",
    "    print('x : {} in main'.format(x))"
   ]
  },
  {
   "cell_type": "markdown",
   "metadata": {},
   "source": [
    "\n"
   ]
  },
  {
   "cell_type": "code",
   "execution_count": 63,
   "metadata": {},
   "outputs": [
    {
     "name": "stdout",
     "output_type": "stream",
     "text": [
      "['I am your father', 2, 3, 4]\n"
     ]
    }
   ],
   "source": [
    "def func(li):\n",
    "    li[0] = 'I am your father'\n",
    "    \n",
    "if __name__=='__main__':\n",
    "    li = [1, 2, 3, 4]\n",
    "    func(li)\n",
    "    print(li)"
   ]
  },
  {
   "cell_type": "code",
   "execution_count": 65,
   "metadata": {},
   "outputs": [
    {
     "name": "stdout",
     "output_type": "stream",
     "text": [
      "[1, 2, 3, 4]\n"
     ]
    }
   ],
   "source": [
    "def func(li):\n",
    "    li = ['I am your father']\n",
    "    \n",
    "if __name__=='__main__':\n",
    "    li = [1, 2, 3, 4]\n",
    "    func(li)\n",
    "    print(li)"
   ]
  },
  {
   "cell_type": "code",
   "execution_count": 67,
   "metadata": {},
   "outputs": [
    {
     "name": "stdout",
     "output_type": "stream",
     "text": [
      "(1, 2, 3, 4)\n",
      "('I am your father', 2, 3, 4)\n"
     ]
    }
   ],
   "source": [
    "def change_value(tu):\n",
    "    tu = ('I am your father', 2, 3, 4)\n",
    "    return tu\n",
    "\n",
    "if __name__=='__main__':\n",
    "    tu = (1, 2, 3, 4)\n",
    "    print(tu)\n",
    "    tu = change_value(tu)\n",
    "    print(tu)"
   ]
  }
 ],
 "metadata": {
  "kernelspec": {
   "display_name": "Python 3",
   "language": "python",
   "name": "python3"
  },
  "language_info": {
   "codemirror_mode": {
    "name": "ipython",
    "version": 3
   },
   "file_extension": ".py",
   "mimetype": "text/x-python",
   "name": "python",
   "nbconvert_exporter": "python",
   "pygments_lexer": "ipython3",
   "version": "3.6.5"
  }
 },
 "nbformat": 4,
 "nbformat_minor": 2
}
